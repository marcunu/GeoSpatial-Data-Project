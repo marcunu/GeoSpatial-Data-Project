{
 "cells": [
  {
   "cell_type": "markdown",
   "metadata": {},
   "source": [
    "<img src=\"https://blog.sodio.tech/wp-content/uploads/2018/10/Geolocation.gif\">"
   ]
  },
  {
   "cell_type": "markdown",
   "metadata": {},
   "source": [
    "# Nearby locations\n",
    "\n",
    "Now we have to find the best `location` for the company to meet the needs of the employees.\n",
    "\n",
    "These requirements are: \n",
    "\n",
    "* 30% of the company staff have at least 1 child.\n",
    "* Executives like `Starbucks` A LOT.\n",
    "* Account managers need to `travel` a lot.\n",
    "* Everyone in the company is between 25 and 40, give them some `place to go party`.\n",
    "* The CEO is `vegan`.\n",
    "* If you want to make the maintenance guy happy, a `basketball` stadium must be around 10 Km.\n",
    "* The office dog—\"Dobby\" needs a `hairdresser` every month. Ensure there's one not too far away.\n"
   ]
  },
  {
   "cell_type": "markdown",
   "metadata": {},
   "source": [
    "<img src=\"https://www.gif-vif.com/Gaming-with-doggo.gif\">"
   ]
  },
  {
   "cell_type": "markdown",
   "metadata": {},
   "source": [
    "## Import the necessary libraries"
   ]
  },
  {
   "cell_type": "code",
   "execution_count": 2,
   "metadata": {},
   "outputs": [
    {
     "data": {
      "text/plain": [
       "True"
      ]
     },
     "execution_count": 2,
     "metadata": {},
     "output_type": "execute_result"
    }
   ],
   "source": [
    "from pymongo import MongoClient\n",
    "import pandas as pd\n",
    "import folium\n",
    "from folium import Choropleth, Circle, Marker, Icon, Map\n",
    "from folium.plugins import HeatMap, MarkerCluster\n",
    "import requests\n",
    "import json\n",
    "\n",
    "import src.limpieza_texto as lt\n",
    "import src.visualizacion as vt\n",
    "\n",
    "from pandas import json_normalize\n",
    "from functools import reduce\n",
    "import operator\n",
    "\n",
    "from dotenv import load_dotenv\n",
    "import os\n",
    "load_dotenv()"
   ]
  },
  {
   "cell_type": "markdown",
   "metadata": {},
   "source": [
    "## Conect with `FourSquare`"
   ]
  },
  {
   "cell_type": "code",
   "execution_count": 13,
   "metadata": {},
   "outputs": [],
   "source": [
    "tok1 = os.getenv(\"tok_id\")\n",
    "tok2 = os.getenv(\"tok_s\")"
   ]
  },
  {
   "cell_type": "code",
   "execution_count": 24,
   "metadata": {},
   "outputs": [],
   "source": [
    "san_francisco = {'type': 'Point', 'coordinates': [37.7579, -122.4192]}"
   ]
  },
  {
   "cell_type": "code",
   "execution_count": 66,
   "metadata": {},
   "outputs": [],
   "source": [
    "vegan = \"4bf58dd8d48988d1d3941735\""
   ]
  },
  {
   "cell_type": "code",
   "execution_count": 65,
   "metadata": {},
   "outputs": [
    {
     "data": {
      "text/plain": [
       "'hola'"
      ]
     },
     "execution_count": 65,
     "metadata": {},
     "output_type": "execute_result"
    }
   ],
   "source": [
    "f\"{vegan}\""
   ]
  },
  {
   "cell_type": "code",
   "execution_count": 26,
   "metadata": {},
   "outputs": [],
   "source": [
    "parametros = {\n",
    "    \"client_id\": tok1,\n",
    "    \"client_secret\": tok2,\n",
    "    \"v\": \"20180323\",\n",
    "    \"ll\": f\"{san_francisco.get('coordinates')[0]},{san_francisco.get('coordinates')[1]}\",\n",
    "    \"query\": f\"{vegan}\", \n",
    "    \"limit\": 50    \n",
    "}"
   ]
  },
  {
   "cell_type": "code",
   "execution_count": 27,
   "metadata": {},
   "outputs": [],
   "source": [
    "resp = requests.get(url= url_query, params = parametros).json()"
   ]
  },
  {
   "cell_type": "code",
   "execution_count": 44,
   "metadata": {},
   "outputs": [],
   "source": [
    "#resp"
   ]
  },
  {
   "cell_type": "code",
   "execution_count": 29,
   "metadata": {},
   "outputs": [
    {
     "data": {
      "text/plain": [
       "dict_keys(['meta', 'response'])"
      ]
     },
     "execution_count": 29,
     "metadata": {},
     "output_type": "execute_result"
    }
   ],
   "source": [
    "resp.keys()"
   ]
  },
  {
   "cell_type": "code",
   "execution_count": 30,
   "metadata": {},
   "outputs": [],
   "source": [
    "data = resp.get(\"response\")"
   ]
  },
  {
   "cell_type": "code",
   "execution_count": 32,
   "metadata": {},
   "outputs": [],
   "source": [
    "#data"
   ]
  },
  {
   "cell_type": "code",
   "execution_count": 61,
   "metadata": {},
   "outputs": [],
   "source": [
    "decode = resp.get(\"response\").get(\"groups\")[0]"
   ]
  },
  {
   "cell_type": "code",
   "execution_count": 62,
   "metadata": {},
   "outputs": [
    {
     "data": {
      "text/html": [
       "<div>\n",
       "<style scoped>\n",
       "    .dataframe tbody tr th:only-of-type {\n",
       "        vertical-align: middle;\n",
       "    }\n",
       "\n",
       "    .dataframe tbody tr th {\n",
       "        vertical-align: top;\n",
       "    }\n",
       "\n",
       "    .dataframe thead th {\n",
       "        text-align: right;\n",
       "    }\n",
       "</style>\n",
       "<table border=\"1\" class=\"dataframe\">\n",
       "  <thead>\n",
       "    <tr style=\"text-align: right;\">\n",
       "      <th></th>\n",
       "      <th>type</th>\n",
       "      <th>name</th>\n",
       "      <th>items</th>\n",
       "    </tr>\n",
       "  </thead>\n",
       "  <tbody>\n",
       "    <tr>\n",
       "      <th>0</th>\n",
       "      <td>Recommended Places</td>\n",
       "      <td>recommended</td>\n",
       "      <td>[{'reasons': {'count': 0, 'items': [{'summary'...</td>\n",
       "    </tr>\n",
       "  </tbody>\n",
       "</table>\n",
       "</div>"
      ],
      "text/plain": [
       "                 type         name  \\\n",
       "0  Recommended Places  recommended   \n",
       "\n",
       "                                               items  \n",
       "0  [{'reasons': {'count': 0, 'items': [{'summary'...  "
      ]
     },
     "execution_count": 62,
     "metadata": {},
     "output_type": "execute_result"
    }
   ],
   "source": [
    "from pandas import json_normalize\n",
    "json_normalize(decode)"
   ]
  },
  {
   "cell_type": "code",
   "execution_count": 35,
   "metadata": {},
   "outputs": [],
   "source": [
    "decode_otravez = decode.get(\"items\")"
   ]
  },
  {
   "cell_type": "code",
   "execution_count": 36,
   "metadata": {},
   "outputs": [],
   "source": [
    "from functools import reduce\n",
    "import operator"
   ]
  },
  {
   "cell_type": "code",
   "execution_count": 37,
   "metadata": {},
   "outputs": [],
   "source": [
    "mapa_nombre =  [\"venue\", \"name\"]\n",
    "mapa_latitud = [\"venue\", \"location\", \"lat\"]\n",
    "mapa_longitud = [\"venue\", \"location\", \"lng\"]\n"
   ]
  },
  {
   "cell_type": "code",
   "execution_count": 38,
   "metadata": {},
   "outputs": [],
   "source": [
    "def getFromDict(diccionario,mapa):\n",
    "    return reduce(operator.getitem,mapa,diccionario)"
   ]
  },
  {
   "cell_type": "code",
   "execution_count": 55,
   "metadata": {},
   "outputs": [],
   "source": [
    "coord = []\n",
    "for dic in decode_otravez:\n",
    "    paralista = {}\n",
    "    paralista[\"name\"] = getFromDict(dic, mapa_nombre)\n",
    "    paralista[\"latitud\"]= getFromDict(dic, mapa_latitud)\n",
    "    paralista[\"longitud\"] = getFromDict(dic,mapa_longitud)\n",
    "    coord.append(paralista)"
   ]
  },
  {
   "cell_type": "code",
   "execution_count": 56,
   "metadata": {},
   "outputs": [
    {
     "data": {
      "text/html": [
       "<div>\n",
       "<style scoped>\n",
       "    .dataframe tbody tr th:only-of-type {\n",
       "        vertical-align: middle;\n",
       "    }\n",
       "\n",
       "    .dataframe tbody tr th {\n",
       "        vertical-align: top;\n",
       "    }\n",
       "\n",
       "    .dataframe thead th {\n",
       "        text-align: right;\n",
       "    }\n",
       "</style>\n",
       "<table border=\"1\" class=\"dataframe\">\n",
       "  <thead>\n",
       "    <tr style=\"text-align: right;\">\n",
       "      <th></th>\n",
       "      <th>name</th>\n",
       "      <th>latitud</th>\n",
       "      <th>longitud</th>\n",
       "    </tr>\n",
       "  </thead>\n",
       "  <tbody>\n",
       "    <tr>\n",
       "      <th>0</th>\n",
       "      <td>Bowl'd Acai</td>\n",
       "      <td>37.761549</td>\n",
       "      <td>-122.421400</td>\n",
       "    </tr>\n",
       "    <tr>\n",
       "      <th>1</th>\n",
       "      <td>Louise M. Davies Symphony Hall</td>\n",
       "      <td>37.777976</td>\n",
       "      <td>-122.420157</td>\n",
       "    </tr>\n",
       "    <tr>\n",
       "      <th>2</th>\n",
       "      <td>K&amp;D Market</td>\n",
       "      <td>37.764834</td>\n",
       "      <td>-122.423667</td>\n",
       "    </tr>\n",
       "    <tr>\n",
       "      <th>3</th>\n",
       "      <td>H.D. Buttercup</td>\n",
       "      <td>37.765845</td>\n",
       "      <td>-122.400239</td>\n",
       "    </tr>\n",
       "    <tr>\n",
       "      <th>4</th>\n",
       "      <td>Tazza D'Amore</td>\n",
       "      <td>37.764198</td>\n",
       "      <td>-122.429977</td>\n",
       "    </tr>\n",
       "  </tbody>\n",
       "</table>\n",
       "</div>"
      ],
      "text/plain": [
       "                             name    latitud    longitud\n",
       "0                     Bowl'd Acai  37.761549 -122.421400\n",
       "1  Louise M. Davies Symphony Hall  37.777976 -122.420157\n",
       "2                      K&D Market  37.764834 -122.423667\n",
       "3                  H.D. Buttercup  37.765845 -122.400239\n",
       "4                   Tazza D'Amore  37.764198 -122.429977"
      ]
     },
     "execution_count": 56,
     "metadata": {},
     "output_type": "execute_result"
    }
   ],
   "source": [
    "dataframe = pd.DataFrame(coord)\n",
    "dataframe.head()"
   ]
  },
  {
   "cell_type": "code",
   "execution_count": 57,
   "metadata": {},
   "outputs": [],
   "source": [
    "documentos = []\n",
    "for diccionario in coord:\n",
    "    temporal = {\n",
    "        \"name\" : diccionario.get(\"name\"),\n",
    "        \"location\" : {\"type\" : \"Point\", \"coordinates\" : [diccionario.get(\"latitud\"), diccionario.get(\"longitud\")]}\n",
    "    }\n",
    "    documentos.append(temporal)"
   ]
  },
  {
   "cell_type": "code",
   "execution_count": 58,
   "metadata": {
    "scrolled": true
   },
   "outputs": [
    {
     "data": {
      "text/plain": [
       "[{'name': \"Bowl'd Acai\",\n",
       "  'location': {'type': 'Point',\n",
       "   'coordinates': [37.761549481103955, -122.42140002967778]}},\n",
       " {'name': 'Louise M. Davies Symphony Hall',\n",
       "  'location': {'type': 'Point',\n",
       "   'coordinates': [37.7779761642689, -122.42015694896058]}},\n",
       " {'name': 'K&D Market',\n",
       "  'location': {'type': 'Point',\n",
       "   'coordinates': [37.764834498423426, -122.42366728791336]}},\n",
       " {'name': 'H.D. Buttercup',\n",
       "  'location': {'type': 'Point', 'coordinates': [37.765845, -122.400239]}},\n",
       " {'name': \"Tazza D'Amore\",\n",
       "  'location': {'type': 'Point',\n",
       "   'coordinates': [37.764198303222656, -122.42997741699219]}}]"
      ]
     },
     "execution_count": 58,
     "metadata": {},
     "output_type": "execute_result"
    }
   ],
   "source": [
    "documentos"
   ]
  },
  {
   "cell_type": "code",
   "execution_count": 59,
   "metadata": {},
   "outputs": [],
   "source": [
    "df = pd.DataFrame(documentos)"
   ]
  },
  {
   "cell_type": "code",
   "execution_count": 60,
   "metadata": {},
   "outputs": [],
   "source": [
    "df.to_json(\"./json/restaurantes_veganos.json\", orient = \"records\")"
   ]
  },
  {
   "cell_type": "code",
   "execution_count": null,
   "metadata": {},
   "outputs": [],
   "source": []
  }
 ],
 "metadata": {
  "kernelspec": {
   "display_name": "Python 3",
   "language": "python",
   "name": "python3"
  }
 },
 "nbformat": 4,
 "nbformat_minor": 4
}
