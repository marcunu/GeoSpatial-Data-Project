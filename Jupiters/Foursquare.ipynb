{
 "cells": [
  {
   "cell_type": "markdown",
   "metadata": {},
   "source": [
    "<img src=\"https://blog.sodio.tech/wp-content/uploads/2018/10/Geolocation.gif\">"
   ]
  },
  {
   "cell_type": "markdown",
   "metadata": {},
   "source": [
    "# Nearby locations\n",
    "\n",
    "Now we have to find the best `location` for the company to meet the needs of the employees.\n",
    "\n",
    "These requirements are: \n",
    "\n",
    "* 30% of the company staff have at least 1 child.\n",
    "* Executives like `Starbucks` A LOT.\n",
    "* Account managers need to `travel` a lot.\n",
    "* Everyone in the company is between 25 and 40, give them some `place to go party`.\n",
    "* The CEO is `vegan`.\n",
    "* If you want to make the maintenance guy happy, a `basketball` stadium must be around 10 Km.\n",
    "* The office dog—\"Dobby\" needs a `hairdresser` every month. Ensure there's one not too far away.\n"
   ]
  },
  {
   "cell_type": "markdown",
   "metadata": {},
   "source": [
    "<img src=\"https://www.gif-vif.com/Gaming-with-doggo.gif\">"
   ]
  },
  {
   "cell_type": "markdown",
   "metadata": {},
   "source": [
    "## Import the necessary libraries"
   ]
  },
  {
   "cell_type": "code",
   "execution_count": 1,
   "metadata": {},
   "outputs": [
    {
     "data": {
      "text/plain": [
       "True"
      ]
     },
     "execution_count": 1,
     "metadata": {},
     "output_type": "execute_result"
    }
   ],
   "source": [
    "from pymongo import MongoClient\n",
    "import pandas as pd\n",
    "import folium\n",
    "from folium import Choropleth, Circle, Marker, Icon, Map\n",
    "from folium.plugins import HeatMap, MarkerCluster\n",
    "import requests\n",
    "import json\n",
    "from dotenv import load_dotenv\n",
    "import os\n",
    "load_dotenv()"
   ]
  },
  {
   "cell_type": "markdown",
   "metadata": {},
   "source": [
    "## Conect with `FourSquare`"
   ]
  },
  {
   "cell_type": "code",
   "execution_count": 13,
   "metadata": {},
   "outputs": [],
   "source": [
    "tok1 = os.getenv(\"tok_id\")\n",
    "tok2 = os.getenv(\"tok_s\")"
   ]
  },
  {
   "cell_type": "code",
   "execution_count": 24,
   "metadata": {},
   "outputs": [],
   "source": [
    "san_francisco = {'type': 'Point', 'coordinates': [37.7579, -122.4192]}"
   ]
  },
  {
   "cell_type": "code",
   "execution_count": 25,
   "metadata": {},
   "outputs": [],
   "source": [
    "url_query = 'https://api.foursquare.com/v2/venues/explore'\n",
    "vegan = \"4bf58dd8d48988d1d3941735\""
   ]
  },
  {
   "cell_type": "code",
   "execution_count": 26,
   "metadata": {},
   "outputs": [],
   "source": [
    "parametros = {\n",
    "    \"client_id\": tok1,\n",
    "    \"client_secret\": tok2,\n",
    "    \"v\": \"20180323\",\n",
    "    \"ll\": f\"{san_francisco.get('coordinates')[0]},{san_francisco.get('coordinates')[1]}\",\n",
    "    \"query\": f\"{vegan}\", \n",
    "    \"limit\": 5    \n",
    "}"
   ]
  },
  {
   "cell_type": "code",
   "execution_count": 27,
   "metadata": {},
   "outputs": [],
   "source": [
    "resp = requests.get(url= url_query, params = parametros).json()"
   ]
  },
  {
   "cell_type": "code",
   "execution_count": 28,
   "metadata": {},
   "outputs": [
    {
     "data": {
      "text/plain": [
       "{'meta': {'code': 200, 'requestId': '607c0b5e1adb3d2a19e9a756'},\n",
       " 'response': {'suggestedRadius': 2142,\n",
       "  'headerLocation': 'Mission District',\n",
       "  'headerFullLocation': 'Mission District, San Francisco',\n",
       "  'headerLocationGranularity': 'neighborhood',\n",
       "  'query': '4bf58dd8d48988d1d3941735',\n",
       "  'totalResults': 14,\n",
       "  'suggestedBounds': {'ne': {'lat': 37.77879749842715,\n",
       "    'lng': -122.39875207915038},\n",
       "   'sw': {'lat': 37.76072814694571, 'lng': -122.4314643378418}},\n",
       "  'groups': [{'type': 'Recommended Places',\n",
       "    'name': 'recommended',\n",
       "    'items': [{'reasons': {'count': 0,\n",
       "       'items': [{'summary': 'This spot is popular',\n",
       "         'type': 'general',\n",
       "         'reasonName': 'globalInteractionReason'}]},\n",
       "      'venue': {'id': '540bd75c498ec61f46d1974d',\n",
       "       'name': \"Bowl'd Acai\",\n",
       "       'contact': {},\n",
       "       'location': {'address': '14 Mint Plz',\n",
       "        'crossStreet': 'at Jessie St',\n",
       "        'lat': 37.761549481103955,\n",
       "        'lng': -122.42140002967778,\n",
       "        'labeledLatLngs': [{'label': 'display',\n",
       "          'lat': 37.761549481103955,\n",
       "          'lng': -122.42140002967778}],\n",
       "        'distance': 450,\n",
       "        'postalCode': '94103',\n",
       "        'cc': 'US',\n",
       "        'neighborhood': 'SoMa',\n",
       "        'city': 'San Francisco',\n",
       "        'state': 'CA',\n",
       "        'country': 'United States',\n",
       "        'formattedAddress': ['14 Mint Plz (at Jessie St)',\n",
       "         'San Francisco, CA 94103',\n",
       "         'United States']},\n",
       "       'categories': [{'id': '4bf58dd8d48988d1cb941735',\n",
       "         'name': 'Food Truck',\n",
       "         'pluralName': 'Food Trucks',\n",
       "         'shortName': 'Food Truck',\n",
       "         'icon': {'prefix': 'https://ss3.4sqi.net/img/categories_v2/food/streetfood_',\n",
       "          'suffix': '.png'},\n",
       "         'primary': True}],\n",
       "       'verified': False,\n",
       "       'stats': {'tipCount': 0,\n",
       "        'usersCount': 0,\n",
       "        'checkinsCount': 0,\n",
       "        'visitsCount': 0},\n",
       "       'delivery': {'id': '2291135',\n",
       "        'url': 'https://www.grubhub.com/restaurant/bowld-acai-711-valencia-st-san-francisco/2291135?affiliate=1131&utm_source=foursquare-affiliate-network&utm_medium=affiliate&utm_campaign=1131&utm_content=2291135',\n",
       "        'provider': {'name': 'grubhub',\n",
       "         'icon': {'prefix': 'https://fastly.4sqi.net/img/general/cap/',\n",
       "          'sizes': [40, 50],\n",
       "          'name': '/delivery_provider_grubhub_20180129.png'}}},\n",
       "       'beenHere': {'count': 0,\n",
       "        'lastCheckinExpiredAt': 0,\n",
       "        'marked': False,\n",
       "        'unconfirmedCount': 0},\n",
       "       'photos': {'count': 0, 'groups': []},\n",
       "       'hereNow': {'count': 0, 'summary': 'Nobody here', 'groups': []}},\n",
       "      'referralId': 'e-0-540bd75c498ec61f46d1974d-0'},\n",
       "     {'reasons': {'count': 0,\n",
       "       'items': [{'summary': 'This spot is popular',\n",
       "         'type': 'general',\n",
       "         'reasonName': 'globalInteractionReason'}]},\n",
       "      'venue': {'id': '4aa48566f964a520024720e3',\n",
       "       'name': 'Louise M. Davies Symphony Hall',\n",
       "       'contact': {},\n",
       "       'location': {'address': '201 Van Ness Ave',\n",
       "        'crossStreet': 'btwn Grove & Hayes St',\n",
       "        'lat': 37.7779761642689,\n",
       "        'lng': -122.42015694896058,\n",
       "        'labeledLatLngs': [{'label': 'display',\n",
       "          'lat': 37.7779761642689,\n",
       "          'lng': -122.42015694896058}],\n",
       "        'distance': 2236,\n",
       "        'postalCode': '94102',\n",
       "        'cc': 'US',\n",
       "        'city': 'San Francisco',\n",
       "        'state': 'CA',\n",
       "        'country': 'United States',\n",
       "        'formattedAddress': ['201 Van Ness Ave (btwn Grove & Hayes St)',\n",
       "         'San Francisco, CA 94102',\n",
       "         'United States']},\n",
       "       'categories': [{'id': '5032792091d4c4b30a586d5c',\n",
       "         'name': 'Concert Hall',\n",
       "         'pluralName': 'Concert Halls',\n",
       "         'shortName': 'Concert Hall',\n",
       "         'icon': {'prefix': 'https://ss3.4sqi.net/img/categories_v2/arts_entertainment/musicvenue_',\n",
       "          'suffix': '.png'},\n",
       "         'primary': True}],\n",
       "       'verified': True,\n",
       "       'stats': {'tipCount': 0,\n",
       "        'usersCount': 0,\n",
       "        'checkinsCount': 0,\n",
       "        'visitsCount': 0},\n",
       "       'beenHere': {'count': 0,\n",
       "        'lastCheckinExpiredAt': 0,\n",
       "        'marked': False,\n",
       "        'unconfirmedCount': 0},\n",
       "       'photos': {'count': 0, 'groups': []},\n",
       "       'hereNow': {'count': 0, 'summary': 'Nobody here', 'groups': []}},\n",
       "      'flags': {'outsideRadius': True},\n",
       "      'referralId': 'e-0-4aa48566f964a520024720e3-1'},\n",
       "     {'reasons': {'count': 0,\n",
       "       'items': [{'summary': 'This spot is popular',\n",
       "         'type': 'general',\n",
       "         'reasonName': 'globalInteractionReason'}]},\n",
       "      'venue': {'id': '4a887fddf964a520ab0620e3',\n",
       "       'name': 'K&D Market',\n",
       "       'contact': {},\n",
       "       'location': {'address': '3177 16th St',\n",
       "        'crossStreet': 'at Guerrero St',\n",
       "        'lat': 37.764834498423426,\n",
       "        'lng': -122.42366728791336,\n",
       "        'labeledLatLngs': [{'label': 'display',\n",
       "          'lat': 37.764834498423426,\n",
       "          'lng': -122.42366728791336},\n",
       "         {'label': 'entrance', 'lat': 37.76471, 'lng': -122.423692}],\n",
       "        'distance': 866,\n",
       "        'postalCode': '94103',\n",
       "        'cc': 'US',\n",
       "        'city': 'San Francisco',\n",
       "        'state': 'CA',\n",
       "        'country': 'United States',\n",
       "        'formattedAddress': ['3177 16th St (at Guerrero St)',\n",
       "         'San Francisco, CA 94103',\n",
       "         'United States']},\n",
       "       'categories': [{'id': '4bf58dd8d48988d146941735',\n",
       "         'name': 'Deli / Bodega',\n",
       "         'pluralName': 'Delis / Bodegas',\n",
       "         'shortName': 'Deli / Bodega',\n",
       "         'icon': {'prefix': 'https://ss3.4sqi.net/img/categories_v2/food/deli_',\n",
       "          'suffix': '.png'},\n",
       "         'primary': True}],\n",
       "       'verified': False,\n",
       "       'stats': {'tipCount': 0,\n",
       "        'usersCount': 0,\n",
       "        'checkinsCount': 0,\n",
       "        'visitsCount': 0},\n",
       "       'delivery': {'id': '1685820',\n",
       "        'url': 'https://www.grubhub.com/restaurant/k-and-d-market-korean-bbq-3177-16th-st-san-francisco/1685820?affiliate=1131&utm_source=foursquare-affiliate-network&utm_medium=affiliate&utm_campaign=1131&utm_content=1685820',\n",
       "        'provider': {'name': 'grubhub',\n",
       "         'icon': {'prefix': 'https://fastly.4sqi.net/img/general/cap/',\n",
       "          'sizes': [40, 50],\n",
       "          'name': '/delivery_provider_grubhub_20180129.png'}}},\n",
       "       'beenHere': {'count': 0,\n",
       "        'lastCheckinExpiredAt': 0,\n",
       "        'marked': False,\n",
       "        'unconfirmedCount': 0},\n",
       "       'photos': {'count': 0, 'groups': []},\n",
       "       'hereNow': {'count': 0, 'summary': 'Nobody here', 'groups': []}},\n",
       "      'referralId': 'e-0-4a887fddf964a520ab0620e3-2'},\n",
       "     {'reasons': {'count': 0,\n",
       "       'items': [{'summary': 'This spot is popular',\n",
       "         'type': 'general',\n",
       "         'reasonName': 'globalInteractionReason'}]},\n",
       "      'venue': {'id': '584373f6de0cbc1db77ed1b5',\n",
       "       'name': 'H.D. Buttercup',\n",
       "       'contact': {},\n",
       "       'location': {'address': '1301 16th St',\n",
       "        'lat': 37.765845,\n",
       "        'lng': -122.400239,\n",
       "        'labeledLatLngs': [{'label': 'display',\n",
       "          'lat': 37.765845,\n",
       "          'lng': -122.400239}],\n",
       "        'distance': 1888,\n",
       "        'postalCode': '94103',\n",
       "        'cc': 'US',\n",
       "        'city': 'San Francisco',\n",
       "        'state': 'CA',\n",
       "        'country': 'United States',\n",
       "        'formattedAddress': ['1301 16th St',\n",
       "         'San Francisco, CA 94103',\n",
       "         'United States']},\n",
       "       'categories': [{'id': '4bf58dd8d48988d1f8941735',\n",
       "         'name': 'Furniture / Home Store',\n",
       "         'pluralName': 'Furniture / Home Stores',\n",
       "         'shortName': 'Furniture / Home',\n",
       "         'icon': {'prefix': 'https://ss3.4sqi.net/img/categories_v2/shops/furniture_',\n",
       "          'suffix': '.png'},\n",
       "         'primary': True}],\n",
       "       'verified': False,\n",
       "       'stats': {'tipCount': 0,\n",
       "        'usersCount': 0,\n",
       "        'checkinsCount': 0,\n",
       "        'visitsCount': 0},\n",
       "       'beenHere': {'count': 0,\n",
       "        'lastCheckinExpiredAt': 0,\n",
       "        'marked': False,\n",
       "        'unconfirmedCount': 0},\n",
       "       'photos': {'count': 0, 'groups': []},\n",
       "       'hereNow': {'count': 0, 'summary': 'Nobody here', 'groups': []}},\n",
       "      'referralId': 'e-0-584373f6de0cbc1db77ed1b5-3'},\n",
       "     {'reasons': {'count': 0,\n",
       "       'items': [{'summary': 'This spot is popular',\n",
       "         'type': 'general',\n",
       "         'reasonName': 'globalInteractionReason'}]},\n",
       "      'venue': {'id': '486a645cf964a520f4501fe3',\n",
       "       'name': \"Tazza D'Amore\",\n",
       "       'contact': {},\n",
       "       'location': {'address': '3463 16th St',\n",
       "        'crossStreet': 'Sanchez',\n",
       "        'lat': 37.764198303222656,\n",
       "        'lng': -122.42997741699219,\n",
       "        'labeledLatLngs': [{'label': 'display',\n",
       "          'lat': 37.764198303222656,\n",
       "          'lng': -122.42997741699219}],\n",
       "        'distance': 1179,\n",
       "        'postalCode': '94114',\n",
       "        'cc': 'US',\n",
       "        'city': 'San Francisco',\n",
       "        'state': 'CA',\n",
       "        'country': 'United States',\n",
       "        'formattedAddress': ['3463 16th St (Sanchez)',\n",
       "         'San Francisco, CA 94114',\n",
       "         'United States']},\n",
       "       'categories': [{'id': '4bf58dd8d48988d1e0931735',\n",
       "         'name': 'Coffee Shop',\n",
       "         'pluralName': 'Coffee Shops',\n",
       "         'shortName': 'Coffee Shop',\n",
       "         'icon': {'prefix': 'https://ss3.4sqi.net/img/categories_v2/food/coffeeshop_',\n",
       "          'suffix': '.png'},\n",
       "         'primary': True}],\n",
       "       'verified': False,\n",
       "       'stats': {'tipCount': 0,\n",
       "        'usersCount': 0,\n",
       "        'checkinsCount': 0,\n",
       "        'visitsCount': 0},\n",
       "       'beenHere': {'count': 0,\n",
       "        'lastCheckinExpiredAt': 0,\n",
       "        'marked': False,\n",
       "        'unconfirmedCount': 0},\n",
       "       'photos': {'count': 0, 'groups': []},\n",
       "       'hereNow': {'count': 0, 'summary': 'Nobody here', 'groups': []}},\n",
       "      'referralId': 'e-0-486a645cf964a520f4501fe3-4'}]}]}}"
      ]
     },
     "execution_count": 28,
     "metadata": {},
     "output_type": "execute_result"
    }
   ],
   "source": [
    "resp"
   ]
  },
  {
   "cell_type": "code",
   "execution_count": 29,
   "metadata": {},
   "outputs": [
    {
     "data": {
      "text/plain": [
       "dict_keys(['meta', 'response'])"
      ]
     },
     "execution_count": 29,
     "metadata": {},
     "output_type": "execute_result"
    }
   ],
   "source": [
    "resp.keys()"
   ]
  },
  {
   "cell_type": "code",
   "execution_count": 30,
   "metadata": {},
   "outputs": [],
   "source": [
    "data = resp.get(\"response\")"
   ]
  },
  {
   "cell_type": "code",
   "execution_count": 32,
   "metadata": {},
   "outputs": [],
   "source": [
    "#data"
   ]
  },
  {
   "cell_type": "code",
   "execution_count": 33,
   "metadata": {},
   "outputs": [],
   "source": [
    "decode = data.get(\"groups\")[0]"
   ]
  },
  {
   "cell_type": "code",
   "execution_count": 34,
   "metadata": {},
   "outputs": [
    {
     "data": {
      "text/html": [
       "<div>\n",
       "<style scoped>\n",
       "    .dataframe tbody tr th:only-of-type {\n",
       "        vertical-align: middle;\n",
       "    }\n",
       "\n",
       "    .dataframe tbody tr th {\n",
       "        vertical-align: top;\n",
       "    }\n",
       "\n",
       "    .dataframe thead th {\n",
       "        text-align: right;\n",
       "    }\n",
       "</style>\n",
       "<table border=\"1\" class=\"dataframe\">\n",
       "  <thead>\n",
       "    <tr style=\"text-align: right;\">\n",
       "      <th></th>\n",
       "      <th>type</th>\n",
       "      <th>name</th>\n",
       "      <th>items</th>\n",
       "    </tr>\n",
       "  </thead>\n",
       "  <tbody>\n",
       "    <tr>\n",
       "      <th>0</th>\n",
       "      <td>Recommended Places</td>\n",
       "      <td>recommended</td>\n",
       "      <td>[{'reasons': {'count': 0, 'items': [{'summary'...</td>\n",
       "    </tr>\n",
       "  </tbody>\n",
       "</table>\n",
       "</div>"
      ],
      "text/plain": [
       "                 type         name  \\\n",
       "0  Recommended Places  recommended   \n",
       "\n",
       "                                               items  \n",
       "0  [{'reasons': {'count': 0, 'items': [{'summary'...  "
      ]
     },
     "execution_count": 34,
     "metadata": {},
     "output_type": "execute_result"
    }
   ],
   "source": [
    "from pandas import json_normalize\n",
    "json_normalize(decode)"
   ]
  },
  {
   "cell_type": "code",
   "execution_count": 35,
   "metadata": {},
   "outputs": [],
   "source": [
    "decode_otravez = decode.get(\"items\")"
   ]
  },
  {
   "cell_type": "code",
   "execution_count": 36,
   "metadata": {},
   "outputs": [],
   "source": [
    "from functools import reduce\n",
    "import operator"
   ]
  },
  {
   "cell_type": "code",
   "execution_count": 37,
   "metadata": {},
   "outputs": [],
   "source": [
    "mapa_nombre =  [\"venue\", \"name\"]\n",
    "mapa_latitud = [\"venue\", \"location\", \"lat\"]\n",
    "mapa_longitud = [\"venue\", \"location\", \"lng\"]\n"
   ]
  },
  {
   "cell_type": "code",
   "execution_count": 38,
   "metadata": {},
   "outputs": [],
   "source": [
    "def getFromDict(diccionario,mapa):\n",
    "    return reduce(operator.getitem,mapa,diccionario)"
   ]
  },
  {
   "cell_type": "code",
   "execution_count": 39,
   "metadata": {},
   "outputs": [],
   "source": [
    "lovemosclaro = []\n",
    "for dic in decode_otravez:\n",
    "    paralista = {}\n",
    "    paralista[\"name\"] = getFromDict(dic, mapa_nombre)\n",
    "    paralista[\"latitud\"]= getFromDict(dic, mapa_latitud)\n",
    "    paralista[\"longitud\"] = getFromDict(dic,mapa_longitud)\n",
    "    lovemosclaro.append(paralista)"
   ]
  },
  {
   "cell_type": "code",
   "execution_count": 40,
   "metadata": {},
   "outputs": [
    {
     "data": {
      "text/html": [
       "<div>\n",
       "<style scoped>\n",
       "    .dataframe tbody tr th:only-of-type {\n",
       "        vertical-align: middle;\n",
       "    }\n",
       "\n",
       "    .dataframe tbody tr th {\n",
       "        vertical-align: top;\n",
       "    }\n",
       "\n",
       "    .dataframe thead th {\n",
       "        text-align: right;\n",
       "    }\n",
       "</style>\n",
       "<table border=\"1\" class=\"dataframe\">\n",
       "  <thead>\n",
       "    <tr style=\"text-align: right;\">\n",
       "      <th></th>\n",
       "      <th>name</th>\n",
       "      <th>latitud</th>\n",
       "      <th>longitud</th>\n",
       "    </tr>\n",
       "  </thead>\n",
       "  <tbody>\n",
       "    <tr>\n",
       "      <th>0</th>\n",
       "      <td>Bowl'd Acai</td>\n",
       "      <td>37.761549</td>\n",
       "      <td>-122.421400</td>\n",
       "    </tr>\n",
       "    <tr>\n",
       "      <th>1</th>\n",
       "      <td>Louise M. Davies Symphony Hall</td>\n",
       "      <td>37.777976</td>\n",
       "      <td>-122.420157</td>\n",
       "    </tr>\n",
       "    <tr>\n",
       "      <th>2</th>\n",
       "      <td>K&amp;D Market</td>\n",
       "      <td>37.764834</td>\n",
       "      <td>-122.423667</td>\n",
       "    </tr>\n",
       "    <tr>\n",
       "      <th>3</th>\n",
       "      <td>H.D. Buttercup</td>\n",
       "      <td>37.765845</td>\n",
       "      <td>-122.400239</td>\n",
       "    </tr>\n",
       "    <tr>\n",
       "      <th>4</th>\n",
       "      <td>Tazza D'Amore</td>\n",
       "      <td>37.764198</td>\n",
       "      <td>-122.429977</td>\n",
       "    </tr>\n",
       "  </tbody>\n",
       "</table>\n",
       "</div>"
      ],
      "text/plain": [
       "                             name    latitud    longitud\n",
       "0                     Bowl'd Acai  37.761549 -122.421400\n",
       "1  Louise M. Davies Symphony Hall  37.777976 -122.420157\n",
       "2                      K&D Market  37.764834 -122.423667\n",
       "3                  H.D. Buttercup  37.765845 -122.400239\n",
       "4                   Tazza D'Amore  37.764198 -122.429977"
      ]
     },
     "execution_count": 40,
     "metadata": {},
     "output_type": "execute_result"
    }
   ],
   "source": [
    "dataframe = pd.DataFrame(lovemosclaro)\n",
    "dataframe.head()"
   ]
  },
  {
   "cell_type": "code",
   "execution_count": null,
   "metadata": {},
   "outputs": [],
   "source": []
  }
 ],
 "metadata": {
  "kernelspec": {
   "display_name": "Python 3",
   "language": "python",
   "name": "python3"
  },
  "language_info": {
   "codemirror_mode": {
    "name": "ipython",
    "version": 3
   },
   "file_extension": ".py",
   "mimetype": "text/x-python",
   "name": "python",
   "nbconvert_exporter": "python",
   "pygments_lexer": "ipython3",
   "version": "3.8.5"
  }
 },
 "nbformat": 4,
 "nbformat_minor": 4
}
