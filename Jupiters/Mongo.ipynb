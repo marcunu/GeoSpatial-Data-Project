{
 "cells": [
  {
   "cell_type": "markdown",
   "metadata": {},
   "source": [
    "<img src=\"https://i.imgur.com/lxGDc73.gif\">"
   ]
  },
  {
   "cell_type": "markdown",
   "metadata": {},
   "source": [
    "# Gaming companies\n",
    "\n",
    "As a data engineer I have asked all the employees to show their preferences on where to place the new office. The goal is to place the new company offices in the best place for the company to grow. I have to find a place that more or less covers all the requirements.\n",
    "\n"
   ]
  },
  {
   "cell_type": "markdown",
   "metadata": {},
   "source": [
    "## Import the necessary libraries"
   ]
  },
  {
   "cell_type": "code",
   "execution_count": 67,
   "metadata": {},
   "outputs": [],
   "source": [
    "from pymongo import MongoClient\n",
    "import pandas as pd"
   ]
  },
  {
   "cell_type": "markdown",
   "metadata": {},
   "source": [
    "<img width=400 src=\"https://cdn.dribbble.com/users/776867/screenshots/6179644/mongogooo.gif\">"
   ]
  },
  {
   "cell_type": "markdown",
   "metadata": {},
   "source": [
    "## Conect with `MongoDb`"
   ]
  },
  {
   "cell_type": "code",
   "execution_count": 2,
   "metadata": {},
   "outputs": [],
   "source": [
    "client = MongoClient(\"localhost:27017\")"
   ]
  },
  {
   "cell_type": "markdown",
   "metadata": {},
   "source": [
    "We need to check which are the different collections:"
   ]
  },
  {
   "cell_type": "code",
   "execution_count": 3,
   "metadata": {},
   "outputs": [
    {
     "data": {
      "text/plain": [
       "['Quotes',\n",
       " 'Species',\n",
       " 'admin',\n",
       " 'companies',\n",
       " 'config',\n",
       " 'final',\n",
       " 'geo',\n",
       " 'labflask',\n",
       " 'local']"
      ]
     },
     "execution_count": 3,
     "metadata": {},
     "output_type": "execute_result"
    }
   ],
   "source": [
    "client.list_database_names()"
   ]
  },
  {
   "cell_type": "markdown",
   "metadata": {},
   "source": [
    "We choose the database called `Companies`."
   ]
  },
  {
   "cell_type": "code",
   "execution_count": 4,
   "metadata": {},
   "outputs": [],
   "source": [
    "companies = client.get_database(\"companies\")"
   ]
  },
  {
   "cell_type": "markdown",
   "metadata": {},
   "source": [
    "Inside the database Companies, we choose the collection called `Companies`."
   ]
  },
  {
   "cell_type": "code",
   "execution_count": 5,
   "metadata": {},
   "outputs": [
    {
     "data": {
      "text/plain": [
       "['companies', 'offices']"
      ]
     },
     "execution_count": 5,
     "metadata": {},
     "output_type": "execute_result"
    }
   ],
   "source": [
    "companies.list_collection_names()"
   ]
  },
  {
   "cell_type": "code",
   "execution_count": 6,
   "metadata": {},
   "outputs": [],
   "source": [
    "comp = companies.get_collection(\"companies\")"
   ]
  },
  {
   "cell_type": "markdown",
   "metadata": {},
   "source": [
    "<img width=300 src=\"https://i.gifer.com/76aE.gif\">"
   ]
  },
  {
   "cell_type": "markdown",
   "metadata": {},
   "source": [
    "### We need companies active in the `gaming industry`."
   ]
  },
  {
   "cell_type": "markdown",
   "metadata": {},
   "source": [
    "Therefore we use the function `.distinct()` to see the different types of company using the `catergory_code` parameter."
   ]
  },
  {
   "cell_type": "code",
   "execution_count": 35,
   "metadata": {
    "scrolled": true
   },
   "outputs": [
    {
     "data": {
      "text/plain": [
       "[None,\n",
       " 'advertising',\n",
       " 'analytics',\n",
       " 'automotive',\n",
       " 'biotech',\n",
       " 'cleantech',\n",
       " 'consulting',\n",
       " 'design',\n",
       " 'ecommerce',\n",
       " 'education',\n",
       " 'enterprise',\n",
       " 'fashion',\n",
       " 'finance',\n",
       " 'games_video',\n",
       " 'government',\n",
       " 'hardware',\n",
       " 'health',\n",
       " 'hospitality',\n",
       " 'legal',\n",
       " 'local',\n",
       " 'manufacturing',\n",
       " 'medical',\n",
       " 'messaging',\n",
       " 'mobile',\n",
       " 'music',\n",
       " 'nanotech',\n",
       " 'network_hosting',\n",
       " 'news',\n",
       " 'nonprofit',\n",
       " 'other',\n",
       " 'photo_video',\n",
       " 'public_relations',\n",
       " 'real_estate',\n",
       " 'search',\n",
       " 'security',\n",
       " 'semiconductor',\n",
       " 'social',\n",
       " 'software',\n",
       " 'sports',\n",
       " 'transportation',\n",
       " 'travel',\n",
       " 'web']"
      ]
     },
     "execution_count": 35,
     "metadata": {},
     "output_type": "execute_result"
    }
   ],
   "source": [
    "comp.distinct(\"category_code\")"
   ]
  },
  {
   "cell_type": "code",
   "execution_count": 102,
   "metadata": {},
   "outputs": [],
   "source": [
    "cond1 = {\"category_code\":\"games_video\"}"
   ]
  },
  {
   "cell_type": "code",
   "execution_count": 103,
   "metadata": {},
   "outputs": [],
   "source": [
    "cond2 = {\"tag_list\":{\"$regex\":\"/*gaming*\"}}"
   ]
  },
  {
   "cell_type": "markdown",
   "metadata": {},
   "source": [
    "<img width=300 src=\"https://tufuturo.cl/wp-content/uploads/2020/01/d370e515ecba80b8cc994e849fd0c44d.gif\">"
   ]
  },
  {
   "cell_type": "markdown",
   "metadata": {},
   "source": [
    "### We also need companies with more than 87 employees.\n",
    "* 20 Designers\n",
    "* 5 UI/UX Engineers\n",
    "* 10 Frontend Developers\n",
    "* 15 Data Engineers\n",
    "* 5 Backend Developers\n",
    "* 20 Account Managers\n",
    "* 1 Maintenance guy that loves basketball\n",
    "* 10 Executives\n",
    "* 1 CEO/President"
   ]
  },
  {
   "cell_type": "code",
   "execution_count": 104,
   "metadata": {},
   "outputs": [],
   "source": [
    "cond3 = {\"number_of_employees\": {\"$gt\":87}}"
   ]
  },
  {
   "cell_type": "markdown",
   "metadata": {},
   "source": [
    "In order to have a better visualization of the data we only select the `name`, `where` the company is and the `number of employees`."
   ]
  },
  {
   "cell_type": "code",
   "execution_count": 95,
   "metadata": {},
   "outputs": [],
   "source": [
    "proj = {\"name\":1,\"offices.city\":1, \"number_of_employees\":1}"
   ]
  },
  {
   "cell_type": "code",
   "execution_count": 106,
   "metadata": {},
   "outputs": [],
   "source": [
    "gaming = list(comp.find({\"$and\":[{\"$or\": [cond1,cond2]},cond3]}, proj))"
   ]
  },
  {
   "cell_type": "code",
   "execution_count": 97,
   "metadata": {},
   "outputs": [
    {
     "data": {
      "text/plain": [
       "'New York'"
      ]
     },
     "execution_count": 97,
     "metadata": {},
     "output_type": "execute_result"
    }
   ],
   "source": [
    "gaming[0].get(\"offices\")[0].get(\"city\")"
   ]
  },
  {
   "cell_type": "code",
   "execution_count": 107,
   "metadata": {},
   "outputs": [],
   "source": [
    "empresas = []\n",
    "\n",
    "try:\n",
    "    \n",
    "    for emp in gaming:\n",
    "\n",
    "        if len(emp.get(\"offices\")) > 1:\n",
    "\n",
    "            for i in range(len(emp.get(\"offices\"))):\n",
    "\n",
    "                dicc = {\n",
    "                    \"Name\" : emp.get(\"name\"),\n",
    "                    \"City\" : emp.get(\"offices\")[i].get(\"city\"),\n",
    "                    \"Number of employees\" : emp.get(\"number_of_employees\")\n",
    "                }\n",
    "\n",
    "                empresas.append(dicc)\n",
    "\n",
    "        else:\n",
    "\n",
    "            dicc = {\n",
    "                \"Name\" : emp.get(\"name\"),\n",
    "                \"City\" : emp.get(\"offices\")[0].get(\"city\"),\n",
    "                \"Number of employees\" : emp.get(\"number_of_employees\")\n",
    "            }\n",
    "\n",
    "            empresas.append(dicc)\n",
    "            \n",
    "except:\n",
    "    \n",
    "    None\n",
    "\n",
    "df_gaming = pd.DataFrame(empresas)"
   ]
  },
  {
   "cell_type": "markdown",
   "metadata": {},
   "source": [
    "Theese are the `Gaming` companies with more than 87 employees."
   ]
  },
  {
   "cell_type": "code",
   "execution_count": 110,
   "metadata": {
    "scrolled": true
   },
   "outputs": [
    {
     "data": {
      "text/html": [
       "<div>\n",
       "<style scoped>\n",
       "    .dataframe tbody tr th:only-of-type {\n",
       "        vertical-align: middle;\n",
       "    }\n",
       "\n",
       "    .dataframe tbody tr th {\n",
       "        vertical-align: top;\n",
       "    }\n",
       "\n",
       "    .dataframe thead th {\n",
       "        text-align: right;\n",
       "    }\n",
       "</style>\n",
       "<table border=\"1\" class=\"dataframe\">\n",
       "  <thead>\n",
       "    <tr style=\"text-align: right;\">\n",
       "      <th></th>\n",
       "      <th>Name</th>\n",
       "      <th>City</th>\n",
       "      <th>Number of employees</th>\n",
       "    </tr>\n",
       "  </thead>\n",
       "  <tbody>\n",
       "    <tr>\n",
       "      <th>0</th>\n",
       "      <td>Livestream</td>\n",
       "      <td>New York</td>\n",
       "      <td>120</td>\n",
       "    </tr>\n",
       "    <tr>\n",
       "      <th>1</th>\n",
       "      <td>Ustream</td>\n",
       "      <td>San Francisco</td>\n",
       "      <td>250</td>\n",
       "    </tr>\n",
       "    <tr>\n",
       "      <th>2</th>\n",
       "      <td>Ustream</td>\n",
       "      <td>Los Angeles</td>\n",
       "      <td>250</td>\n",
       "    </tr>\n",
       "    <tr>\n",
       "      <th>3</th>\n",
       "      <td>Ustream</td>\n",
       "      <td>Budapest</td>\n",
       "      <td>250</td>\n",
       "    </tr>\n",
       "    <tr>\n",
       "      <th>4</th>\n",
       "      <td>RockYou</td>\n",
       "      <td>Redwood City</td>\n",
       "      <td>106</td>\n",
       "    </tr>\n",
       "    <tr>\n",
       "      <th>5</th>\n",
       "      <td>hi5</td>\n",
       "      <td>San Francisco</td>\n",
       "      <td>100</td>\n",
       "    </tr>\n",
       "    <tr>\n",
       "      <th>6</th>\n",
       "      <td>Nintendo</td>\n",
       "      <td>None</td>\n",
       "      <td>5080</td>\n",
       "    </tr>\n",
       "    <tr>\n",
       "      <th>7</th>\n",
       "      <td>The Walt Disney Company</td>\n",
       "      <td>Burbank</td>\n",
       "      <td>25000</td>\n",
       "    </tr>\n",
       "    <tr>\n",
       "      <th>8</th>\n",
       "      <td>Zango</td>\n",
       "      <td>Bellevue</td>\n",
       "      <td>225</td>\n",
       "    </tr>\n",
       "    <tr>\n",
       "      <th>9</th>\n",
       "      <td>hulu</td>\n",
       "      <td>Los Angeles</td>\n",
       "      <td>153</td>\n",
       "    </tr>\n",
       "    <tr>\n",
       "      <th>10</th>\n",
       "      <td>mig33</td>\n",
       "      <td>Singapore</td>\n",
       "      <td>100</td>\n",
       "    </tr>\n",
       "    <tr>\n",
       "      <th>11</th>\n",
       "      <td>Zynga</td>\n",
       "      <td>San Francisco</td>\n",
       "      <td>115</td>\n",
       "    </tr>\n",
       "    <tr>\n",
       "      <th>12</th>\n",
       "      <td>Zynga</td>\n",
       "      <td></td>\n",
       "      <td>115</td>\n",
       "    </tr>\n",
       "    <tr>\n",
       "      <th>13</th>\n",
       "      <td>Zynga</td>\n",
       "      <td>Baltimore</td>\n",
       "      <td>115</td>\n",
       "    </tr>\n",
       "    <tr>\n",
       "      <th>14</th>\n",
       "      <td>Zynga</td>\n",
       "      <td>Los Angeles</td>\n",
       "      <td>115</td>\n",
       "    </tr>\n",
       "    <tr>\n",
       "      <th>15</th>\n",
       "      <td>GameDuell</td>\n",
       "      <td>San Francisco</td>\n",
       "      <td>200</td>\n",
       "    </tr>\n",
       "    <tr>\n",
       "      <th>16</th>\n",
       "      <td>GameDuell</td>\n",
       "      <td>Berlin</td>\n",
       "      <td>200</td>\n",
       "    </tr>\n",
       "    <tr>\n",
       "      <th>17</th>\n",
       "      <td>Netflix</td>\n",
       "      <td>Los Gatos</td>\n",
       "      <td>2000</td>\n",
       "    </tr>\n",
       "    <tr>\n",
       "      <th>18</th>\n",
       "      <td>Social Gaming Network</td>\n",
       "      <td>Los Angeles</td>\n",
       "      <td>100</td>\n",
       "    </tr>\n",
       "    <tr>\n",
       "      <th>19</th>\n",
       "      <td>Social Gaming Network</td>\n",
       "      <td>Beverly Hills</td>\n",
       "      <td>100</td>\n",
       "    </tr>\n",
       "    <tr>\n",
       "      <th>20</th>\n",
       "      <td>Boonty</td>\n",
       "      <td>New York</td>\n",
       "      <td>150</td>\n",
       "    </tr>\n",
       "    <tr>\n",
       "      <th>21</th>\n",
       "      <td>FriendFinder Networks</td>\n",
       "      <td>Boca Raton</td>\n",
       "      <td>350</td>\n",
       "    </tr>\n",
       "    <tr>\n",
       "      <th>22</th>\n",
       "      <td>Realtime Worlds</td>\n",
       "      <td>Dundee</td>\n",
       "      <td>225</td>\n",
       "    </tr>\n",
       "    <tr>\n",
       "      <th>23</th>\n",
       "      <td>Realtime Worlds</td>\n",
       "      <td>Boulder</td>\n",
       "      <td>225</td>\n",
       "    </tr>\n",
       "    <tr>\n",
       "      <th>24</th>\n",
       "      <td>Comcast</td>\n",
       "      <td>Philadelphia</td>\n",
       "      <td>100000</td>\n",
       "    </tr>\n",
       "    <tr>\n",
       "      <th>25</th>\n",
       "      <td>Modern Feed</td>\n",
       "      <td>Los Angeles</td>\n",
       "      <td>123</td>\n",
       "    </tr>\n",
       "    <tr>\n",
       "      <th>26</th>\n",
       "      <td>Kabam</td>\n",
       "      <td>San Francisco</td>\n",
       "      <td>650</td>\n",
       "    </tr>\n",
       "    <tr>\n",
       "      <th>27</th>\n",
       "      <td>Kabam</td>\n",
       "      <td>Beijing</td>\n",
       "      <td>650</td>\n",
       "    </tr>\n",
       "    <tr>\n",
       "      <th>28</th>\n",
       "      <td>Turbine</td>\n",
       "      <td>Westwood</td>\n",
       "      <td>200</td>\n",
       "    </tr>\n",
       "    <tr>\n",
       "      <th>29</th>\n",
       "      <td>Turbine</td>\n",
       "      <td>Redwood City</td>\n",
       "      <td>200</td>\n",
       "    </tr>\n",
       "    <tr>\n",
       "      <th>30</th>\n",
       "      <td>iWin</td>\n",
       "      <td>San Francisco</td>\n",
       "      <td>103</td>\n",
       "    </tr>\n",
       "    <tr>\n",
       "      <th>31</th>\n",
       "      <td>CCP Games</td>\n",
       "      <td>Reykjavik</td>\n",
       "      <td>360</td>\n",
       "    </tr>\n",
       "    <tr>\n",
       "      <th>32</th>\n",
       "      <td>CCP Games</td>\n",
       "      <td>Stone Mountain</td>\n",
       "      <td>360</td>\n",
       "    </tr>\n",
       "    <tr>\n",
       "      <th>33</th>\n",
       "      <td>Vostu</td>\n",
       "      <td>Buenos Aires</td>\n",
       "      <td>550</td>\n",
       "    </tr>\n",
       "    <tr>\n",
       "      <th>34</th>\n",
       "      <td>AdParlor</td>\n",
       "      <td>Toronto, Ontario</td>\n",
       "      <td>300</td>\n",
       "    </tr>\n",
       "    <tr>\n",
       "      <th>35</th>\n",
       "      <td>AdParlor</td>\n",
       "      <td>New York</td>\n",
       "      <td>300</td>\n",
       "    </tr>\n",
       "    <tr>\n",
       "      <th>36</th>\n",
       "      <td>AdParlor</td>\n",
       "      <td>Covent Garden, London</td>\n",
       "      <td>300</td>\n",
       "    </tr>\n",
       "    <tr>\n",
       "      <th>37</th>\n",
       "      <td>AdParlor</td>\n",
       "      <td>San Francisco</td>\n",
       "      <td>300</td>\n",
       "    </tr>\n",
       "    <tr>\n",
       "      <th>38</th>\n",
       "      <td>AdParlor</td>\n",
       "      <td>Shanghai</td>\n",
       "      <td>300</td>\n",
       "    </tr>\n",
       "    <tr>\n",
       "      <th>39</th>\n",
       "      <td>AdParlor</td>\n",
       "      <td>Paris</td>\n",
       "      <td>300</td>\n",
       "    </tr>\n",
       "    <tr>\n",
       "      <th>40</th>\n",
       "      <td>VBS TV</td>\n",
       "      <td>Brooklyn</td>\n",
       "      <td>100</td>\n",
       "    </tr>\n",
       "    <tr>\n",
       "      <th>41</th>\n",
       "      <td>9You</td>\n",
       "      <td>Shanghai</td>\n",
       "      <td>460</td>\n",
       "    </tr>\n",
       "  </tbody>\n",
       "</table>\n",
       "</div>"
      ],
      "text/plain": [
       "                       Name                   City  Number of employees\n",
       "0                Livestream               New York                  120\n",
       "1                   Ustream          San Francisco                  250\n",
       "2                   Ustream            Los Angeles                  250\n",
       "3                   Ustream               Budapest                  250\n",
       "4                   RockYou           Redwood City                  106\n",
       "5                       hi5          San Francisco                  100\n",
       "6                  Nintendo                   None                 5080\n",
       "7   The Walt Disney Company                Burbank                25000\n",
       "8                     Zango               Bellevue                  225\n",
       "9                      hulu            Los Angeles                  153\n",
       "10                    mig33              Singapore                  100\n",
       "11                    Zynga          San Francisco                  115\n",
       "12                    Zynga                                         115\n",
       "13                    Zynga              Baltimore                  115\n",
       "14                    Zynga            Los Angeles                  115\n",
       "15                GameDuell          San Francisco                  200\n",
       "16                GameDuell                 Berlin                  200\n",
       "17                  Netflix              Los Gatos                 2000\n",
       "18    Social Gaming Network            Los Angeles                  100\n",
       "19    Social Gaming Network          Beverly Hills                  100\n",
       "20                   Boonty               New York                  150\n",
       "21    FriendFinder Networks             Boca Raton                  350\n",
       "22          Realtime Worlds                 Dundee                  225\n",
       "23          Realtime Worlds                Boulder                  225\n",
       "24                  Comcast           Philadelphia               100000\n",
       "25              Modern Feed            Los Angeles                  123\n",
       "26                    Kabam          San Francisco                  650\n",
       "27                    Kabam                Beijing                  650\n",
       "28                  Turbine               Westwood                  200\n",
       "29                  Turbine           Redwood City                  200\n",
       "30                     iWin          San Francisco                  103\n",
       "31                CCP Games              Reykjavik                  360\n",
       "32                CCP Games         Stone Mountain                  360\n",
       "33                    Vostu           Buenos Aires                  550\n",
       "34                 AdParlor       Toronto, Ontario                  300\n",
       "35                 AdParlor               New York                  300\n",
       "36                 AdParlor  Covent Garden, London                  300\n",
       "37                 AdParlor          San Francisco                  300\n",
       "38                 AdParlor               Shanghai                  300\n",
       "39                 AdParlor                  Paris                  300\n",
       "40                   VBS TV               Brooklyn                  100\n",
       "41                     9You               Shanghai                  460"
      ]
     },
     "execution_count": 110,
     "metadata": {},
     "output_type": "execute_result"
    }
   ],
   "source": [
    "df_gaming"
   ]
  },
  {
   "cell_type": "code",
   "execution_count": 139,
   "metadata": {},
   "outputs": [
    {
     "data": {
      "text/plain": [
       "San Francisco            7\n",
       "Los Angeles              5\n",
       "New York                 3\n",
       "Redwood City             2\n",
       "Shanghai                 2\n",
       "Boulder                  1\n",
       "Philadelphia             1\n",
       "Baltimore                1\n",
       "Beverly Hills            1\n",
       "Paris                    1\n",
       "Westwood                 1\n",
       "Berlin                   1\n",
       "Singapore                1\n",
       "Boca Raton               1\n",
       "Buenos Aires             1\n",
       "                         1\n",
       "Covent Garden, London    1\n",
       "Los Gatos                1\n",
       "Burbank                  1\n",
       "Dundee                   1\n",
       "Stone Mountain           1\n",
       "Toronto, Ontario         1\n",
       "Beijing                  1\n",
       "Budapest                 1\n",
       "Bellevue                 1\n",
       "Reykjavik                1\n",
       "Brooklyn                 1\n",
       "Name: City, dtype: int64"
      ]
     },
     "execution_count": 139,
     "metadata": {},
     "output_type": "execute_result"
    }
   ],
   "source": [
    "df_gaming[\"City\"].value_counts()"
   ]
  },
  {
   "cell_type": "markdown",
   "metadata": {},
   "source": [
    "<img width=400 src=\"https://i.pinimg.com/originals/45/b4/dc/45b4dc1493c95ba63285a2db21d6662f.gif\">"
   ]
  },
  {
   "cell_type": "markdown",
   "metadata": {},
   "source": [
    "### Developers like to be near successful tech `startups` that have raised at least `1 Million dollars`, so we need to find those companies and where are they located."
   ]
  },
  {
   "cell_type": "code",
   "execution_count": 48,
   "metadata": {},
   "outputs": [],
   "source": [
    "cond3 = {\"tag_list\":{\"$regex\":\"/*start-up*\"}}"
   ]
  },
  {
   "cell_type": "code",
   "execution_count": 52,
   "metadata": {},
   "outputs": [],
   "source": [
    "cond4 = {\"total_money_raised\":{\"$gt\":\"$1M\"}}"
   ]
  },
  {
   "cell_type": "code",
   "execution_count": 53,
   "metadata": {},
   "outputs": [],
   "source": [
    "proj = {\"name\":1,\"offices.city\":1}"
   ]
  },
  {
   "cell_type": "code",
   "execution_count": 57,
   "metadata": {
    "scrolled": true
   },
   "outputs": [],
   "source": [
    "start_up = list(comp.find({\"$and\": [cond3,cond4]}, proj))"
   ]
  },
  {
   "cell_type": "code",
   "execution_count": 130,
   "metadata": {},
   "outputs": [],
   "source": [
    "s_up=[]\n",
    "\n",
    "for emp in start_up:\n",
    "    \n",
    "    if len(emp.get(\"offices\")) > 1:\n",
    "        \n",
    "        for i in range(len(emp.get(\"offices\"))):\n",
    "            \n",
    "            dicc = {\n",
    "                \"Name\" : emp.get(\"name\"),\n",
    "                \"City\" : emp.get(\"offices\")[i].get(\"city\")\n",
    "            }\n",
    "            \n",
    "            s_up.append(dicc)\n",
    "        \n",
    "    else:\n",
    "        \n",
    "        dicc = {\n",
    "            \"Name\" : emp.get(\"name\"),\n",
    "            \"City\" : emp.get(\"offices\")[0].get(\"city\")\n",
    "        }\n",
    "        \n",
    "        s_up.append(dicc)\n",
    "\n",
    "df_sup = pd.DataFrame(s_up)"
   ]
  },
  {
   "cell_type": "markdown",
   "metadata": {},
   "source": [
    "This are the `Start-Up` companies that have raise more than `1 Million`."
   ]
  },
  {
   "cell_type": "code",
   "execution_count": 131,
   "metadata": {},
   "outputs": [
    {
     "data": {
      "text/html": [
       "<div>\n",
       "<style scoped>\n",
       "    .dataframe tbody tr th:only-of-type {\n",
       "        vertical-align: middle;\n",
       "    }\n",
       "\n",
       "    .dataframe tbody tr th {\n",
       "        vertical-align: top;\n",
       "    }\n",
       "\n",
       "    .dataframe thead th {\n",
       "        text-align: right;\n",
       "    }\n",
       "</style>\n",
       "<table border=\"1\" class=\"dataframe\">\n",
       "  <thead>\n",
       "    <tr style=\"text-align: right;\">\n",
       "      <th></th>\n",
       "      <th>Name</th>\n",
       "      <th>City</th>\n",
       "    </tr>\n",
       "  </thead>\n",
       "  <tbody>\n",
       "    <tr>\n",
       "      <th>0</th>\n",
       "      <td>Moviestorm</td>\n",
       "      <td>Cambridge</td>\n",
       "    </tr>\n",
       "    <tr>\n",
       "      <th>1</th>\n",
       "      <td>MojoPages</td>\n",
       "      <td>San Diego</td>\n",
       "    </tr>\n",
       "    <tr>\n",
       "      <th>2</th>\n",
       "      <td>MojoPages</td>\n",
       "      <td>Calabassas</td>\n",
       "    </tr>\n",
       "    <tr>\n",
       "      <th>3</th>\n",
       "      <td>Getyoo</td>\n",
       "      <td>Brussels</td>\n",
       "    </tr>\n",
       "  </tbody>\n",
       "</table>\n",
       "</div>"
      ],
      "text/plain": [
       "         Name        City\n",
       "0  Moviestorm   Cambridge\n",
       "1   MojoPages   San Diego\n",
       "2   MojoPages  Calabassas\n",
       "3      Getyoo    Brussels"
      ]
     },
     "execution_count": 131,
     "metadata": {},
     "output_type": "execute_result"
    }
   ],
   "source": [
    "df_sup"
   ]
  },
  {
   "cell_type": "code",
   "execution_count": 132,
   "metadata": {},
   "outputs": [
    {
     "data": {
      "text/plain": [
       "Cambridge     1\n",
       "Brussels      1\n",
       "San Diego     1\n",
       "Calabassas    1\n",
       "Name: City, dtype: int64"
      ]
     },
     "execution_count": 132,
     "metadata": {},
     "output_type": "execute_result"
    }
   ],
   "source": [
    "df_sup[\"City\"].value_counts()"
   ]
  },
  {
   "cell_type": "markdown",
   "metadata": {},
   "source": [
    "<img width=300 src=\"https://i.pinimg.com/originals/29/df/4e/29df4ede8b954bc0fe4677159c75c7a6.gif\">"
   ]
  },
  {
   "cell_type": "markdown",
   "metadata": {},
   "source": [
    "### Designers like to go to design talks and share knowledge. There must be some `nearby companies that also do design`."
   ]
  },
  {
   "cell_type": "code",
   "execution_count": 114,
   "metadata": {},
   "outputs": [],
   "source": [
    "cond5 = {\"tag_list\":{\"$regex\":\"/*design*\"}}"
   ]
  },
  {
   "cell_type": "code",
   "execution_count": 115,
   "metadata": {},
   "outputs": [],
   "source": [
    "proj = {\"name\":1,\"offices.city\":1}"
   ]
  },
  {
   "cell_type": "code",
   "execution_count": 116,
   "metadata": {
    "scrolled": true
   },
   "outputs": [],
   "source": [
    "design = list(comp.find(cond5, proj))"
   ]
  },
  {
   "cell_type": "code",
   "execution_count": 123,
   "metadata": {},
   "outputs": [],
   "source": [
    "dsgn = []\n",
    "\n",
    "try:\n",
    "    \n",
    "    for emp in design:\n",
    "\n",
    "        if len(emp.get(\"offices\")) > 1:\n",
    "\n",
    "            for i in range(len(emp.get(\"offices\"))):\n",
    "\n",
    "                dicc = {\n",
    "                    \"Name\" : emp.get(\"name\"),\n",
    "                    \"City\" : emp.get(\"offices\")[i].get(\"city\"),\n",
    "                    #\"Number of employees\" : emp.get(\"number_of_employees\")\n",
    "                }\n",
    "\n",
    "                dsgn.append(dicc)\n",
    "\n",
    "        else:\n",
    "\n",
    "            dicc = {\n",
    "                \"Name\" : emp.get(\"name\"),\n",
    "                \"City\" : emp.get(\"offices\")[0].get(\"city\"),\n",
    "                #\"Number of employees\" : emp.get(\"number_of_employees\")\n",
    "            }\n",
    "\n",
    "            dsgn.append(dicc)\n",
    "            \n",
    "except:\n",
    "    \n",
    "    None\n",
    "\n",
    "df_design = pd.DataFrame(dsgn)"
   ]
  },
  {
   "cell_type": "markdown",
   "metadata": {},
   "source": [
    "These are the `design companies` and where are they located"
   ]
  },
  {
   "cell_type": "code",
   "execution_count": 126,
   "metadata": {},
   "outputs": [
    {
     "data": {
      "text/html": [
       "<div>\n",
       "<style scoped>\n",
       "    .dataframe tbody tr th:only-of-type {\n",
       "        vertical-align: middle;\n",
       "    }\n",
       "\n",
       "    .dataframe tbody tr th {\n",
       "        vertical-align: top;\n",
       "    }\n",
       "\n",
       "    .dataframe thead th {\n",
       "        text-align: right;\n",
       "    }\n",
       "</style>\n",
       "<table border=\"1\" class=\"dataframe\">\n",
       "  <thead>\n",
       "    <tr style=\"text-align: right;\">\n",
       "      <th></th>\n",
       "      <th>Name</th>\n",
       "      <th>City</th>\n",
       "    </tr>\n",
       "  </thead>\n",
       "  <tbody>\n",
       "    <tr>\n",
       "      <th>0</th>\n",
       "      <td>Digg</td>\n",
       "      <td>San Francisco</td>\n",
       "    </tr>\n",
       "    <tr>\n",
       "      <th>1</th>\n",
       "      <td>Adobe Systems</td>\n",
       "      <td>San Jose</td>\n",
       "    </tr>\n",
       "    <tr>\n",
       "      <th>2</th>\n",
       "      <td>Negonation</td>\n",
       "      <td></td>\n",
       "    </tr>\n",
       "    <tr>\n",
       "      <th>3</th>\n",
       "      <td>GENWI</td>\n",
       "      <td>Los Altos</td>\n",
       "    </tr>\n",
       "    <tr>\n",
       "      <th>4</th>\n",
       "      <td>Aviary</td>\n",
       "      <td>NY</td>\n",
       "    </tr>\n",
       "    <tr>\n",
       "      <th>5</th>\n",
       "      <td>BrightQube</td>\n",
       "      <td>Carlsbad</td>\n",
       "    </tr>\n",
       "    <tr>\n",
       "      <th>6</th>\n",
       "      <td>Ponoko</td>\n",
       "      <td>Oakland</td>\n",
       "    </tr>\n",
       "    <tr>\n",
       "      <th>7</th>\n",
       "      <td>Ponoko</td>\n",
       "      <td>Wellington</td>\n",
       "    </tr>\n",
       "    <tr>\n",
       "      <th>8</th>\n",
       "      <td>Wix</td>\n",
       "      <td>Tel Aviv</td>\n",
       "    </tr>\n",
       "    <tr>\n",
       "      <th>9</th>\n",
       "      <td>Wix</td>\n",
       "      <td>San Francisco</td>\n",
       "    </tr>\n",
       "    <tr>\n",
       "      <th>10</th>\n",
       "      <td>Gilt Groupe</td>\n",
       "      <td>New York</td>\n",
       "    </tr>\n",
       "    <tr>\n",
       "      <th>11</th>\n",
       "      <td>AF83</td>\n",
       "      <td>PARIS</td>\n",
       "    </tr>\n",
       "    <tr>\n",
       "      <th>12</th>\n",
       "      <td>AF83</td>\n",
       "      <td>San Francisco</td>\n",
       "    </tr>\n",
       "    <tr>\n",
       "      <th>13</th>\n",
       "      <td>Sitemasher</td>\n",
       "      <td>Vancouver</td>\n",
       "    </tr>\n",
       "    <tr>\n",
       "      <th>14</th>\n",
       "      <td>Sitemasher</td>\n",
       "      <td>Coral Gables</td>\n",
       "    </tr>\n",
       "    <tr>\n",
       "      <th>15</th>\n",
       "      <td>cScape</td>\n",
       "      <td>London</td>\n",
       "    </tr>\n",
       "    <tr>\n",
       "      <th>16</th>\n",
       "      <td>EnergyWeb Solutions</td>\n",
       "      <td>Allentown</td>\n",
       "    </tr>\n",
       "    <tr>\n",
       "      <th>17</th>\n",
       "      <td>EnergyWeb Solutions</td>\n",
       "      <td>Allentown</td>\n",
       "    </tr>\n",
       "    <tr>\n",
       "      <th>18</th>\n",
       "      <td>ProofHQ</td>\n",
       "      <td>London</td>\n",
       "    </tr>\n",
       "    <tr>\n",
       "      <th>19</th>\n",
       "      <td>99designs</td>\n",
       "      <td>San Francisco</td>\n",
       "    </tr>\n",
       "    <tr>\n",
       "      <th>20</th>\n",
       "      <td>99designs</td>\n",
       "      <td>Collingwood</td>\n",
       "    </tr>\n",
       "    <tr>\n",
       "      <th>21</th>\n",
       "      <td>99designs</td>\n",
       "      <td>Berlin</td>\n",
       "    </tr>\n",
       "    <tr>\n",
       "      <th>22</th>\n",
       "      <td>Digital-Telepathy</td>\n",
       "      <td>San Diego</td>\n",
       "    </tr>\n",
       "    <tr>\n",
       "      <th>23</th>\n",
       "      <td>Feng-GUI</td>\n",
       "      <td>Tel Aviv</td>\n",
       "    </tr>\n",
       "    <tr>\n",
       "      <th>24</th>\n",
       "      <td>Dotndot</td>\n",
       "      <td>Hyderabad</td>\n",
       "    </tr>\n",
       "    <tr>\n",
       "      <th>25</th>\n",
       "      <td>Osidosi Solutions</td>\n",
       "      <td></td>\n",
       "    </tr>\n",
       "    <tr>\n",
       "      <th>26</th>\n",
       "      <td>Less Everything</td>\n",
       "      <td>Jacksonville</td>\n",
       "    </tr>\n",
       "    <tr>\n",
       "      <th>27</th>\n",
       "      <td>Mojizu</td>\n",
       "      <td>Irvine</td>\n",
       "    </tr>\n",
       "    <tr>\n",
       "      <th>28</th>\n",
       "      <td>Carsonified</td>\n",
       "      <td>Bath</td>\n",
       "    </tr>\n",
       "    <tr>\n",
       "      <th>29</th>\n",
       "      <td>Sososher</td>\n",
       "      <td>London</td>\n",
       "    </tr>\n",
       "    <tr>\n",
       "      <th>30</th>\n",
       "      <td>Designing Interactive</td>\n",
       "      <td>Rocky River</td>\n",
       "    </tr>\n",
       "    <tr>\n",
       "      <th>31</th>\n",
       "      <td>RiDE Group</td>\n",
       "      <td>Newark</td>\n",
       "    </tr>\n",
       "    <tr>\n",
       "      <th>32</th>\n",
       "      <td>Weardrobe</td>\n",
       "      <td>Palo Alto</td>\n",
       "    </tr>\n",
       "    <tr>\n",
       "      <th>33</th>\n",
       "      <td>Brilliant2</td>\n",
       "      <td>Los Angeles</td>\n",
       "    </tr>\n",
       "    <tr>\n",
       "      <th>34</th>\n",
       "      <td>EasyLink</td>\n",
       "      <td>Chennai</td>\n",
       "    </tr>\n",
       "    <tr>\n",
       "      <th>35</th>\n",
       "      <td>Shopflick</td>\n",
       "      <td>Los Angeles</td>\n",
       "    </tr>\n",
       "    <tr>\n",
       "      <th>36</th>\n",
       "      <td>PixelCrayons</td>\n",
       "      <td>New York</td>\n",
       "    </tr>\n",
       "  </tbody>\n",
       "</table>\n",
       "</div>"
      ],
      "text/plain": [
       "                     Name           City\n",
       "0                    Digg  San Francisco\n",
       "1           Adobe Systems       San Jose\n",
       "2              Negonation               \n",
       "3                   GENWI      Los Altos\n",
       "4                  Aviary             NY\n",
       "5              BrightQube       Carlsbad\n",
       "6                  Ponoko        Oakland\n",
       "7                  Ponoko     Wellington\n",
       "8                     Wix       Tel Aviv\n",
       "9                     Wix  San Francisco\n",
       "10            Gilt Groupe       New York\n",
       "11                   AF83          PARIS\n",
       "12                   AF83  San Francisco\n",
       "13             Sitemasher      Vancouver\n",
       "14             Sitemasher   Coral Gables\n",
       "15                 cScape         London\n",
       "16    EnergyWeb Solutions      Allentown\n",
       "17    EnergyWeb Solutions      Allentown\n",
       "18                ProofHQ         London\n",
       "19              99designs  San Francisco\n",
       "20              99designs    Collingwood\n",
       "21              99designs         Berlin\n",
       "22      Digital-Telepathy      San Diego\n",
       "23               Feng-GUI       Tel Aviv\n",
       "24                Dotndot      Hyderabad\n",
       "25      Osidosi Solutions               \n",
       "26        Less Everything   Jacksonville\n",
       "27                 Mojizu         Irvine\n",
       "28            Carsonified           Bath\n",
       "29               Sososher         London\n",
       "30  Designing Interactive    Rocky River\n",
       "31             RiDE Group         Newark\n",
       "32              Weardrobe      Palo Alto\n",
       "33             Brilliant2    Los Angeles\n",
       "34               EasyLink        Chennai\n",
       "35              Shopflick    Los Angeles\n",
       "36           PixelCrayons       New York"
      ]
     },
     "execution_count": 126,
     "metadata": {},
     "output_type": "execute_result"
    }
   ],
   "source": [
    "df_design"
   ]
  },
  {
   "cell_type": "code",
   "execution_count": 142,
   "metadata": {},
   "outputs": [
    {
     "data": {
      "text/plain": [
       "San Francisco    0.108108\n",
       "London           0.081081\n",
       "                 0.054054\n",
       "Tel Aviv         0.054054\n",
       "Los Angeles      0.054054\n",
       "New York         0.054054\n",
       "Allentown        0.054054\n",
       "Wellington       0.027027\n",
       "San Jose         0.027027\n",
       "Vancouver        0.027027\n",
       "Hyderabad        0.027027\n",
       "Collingwood      0.027027\n",
       "Coral Gables     0.027027\n",
       "Rocky River      0.027027\n",
       "Newark           0.027027\n",
       "Carlsbad         0.027027\n",
       "PARIS            0.027027\n",
       "Berlin           0.027027\n",
       "Bath             0.027027\n",
       "Palo Alto        0.027027\n",
       "Jacksonville     0.027027\n",
       "Oakland          0.027027\n",
       "Irvine           0.027027\n",
       "Los Altos        0.027027\n",
       "Chennai          0.027027\n",
       "San Diego        0.027027\n",
       "NY               0.027027\n",
       "Name: City, dtype: float64"
      ]
     },
     "execution_count": 142,
     "metadata": {},
     "output_type": "execute_result"
    }
   ],
   "source": [
    "df_design[\"City\"].value_counts(1)"
   ]
  },
  {
   "cell_type": "markdown",
   "metadata": {},
   "source": [
    "## Conclusions\n",
    "\n",
    "As we can see the main cities for `Gaming companies` are `San Francisco` with the `17%` of companies located there and `Los Angeles` with `12 %`.\n",
    "\n",
    "The `Start-up´s` that have raised mor than `1 Million` are located in:\n",
    "\n",
    "* Cambridge     \n",
    "* Brussels      \n",
    "* San Diego     \n",
    "* Calabassas\n",
    "\n",
    "The 3 main cities for `design companies` where our designers could go to `talks and share knowledge`are:\n",
    "\n",
    "* San Francisco (10.81 %)\n",
    "* London (8.1 %)\n",
    "* Tel Aviv (5.4 %)"
   ]
  },
  {
   "cell_type": "code",
   "execution_count": null,
   "metadata": {},
   "outputs": [],
   "source": []
  }
 ],
 "metadata": {
  "kernelspec": {
   "display_name": "Python 3",
   "language": "python",
   "name": "python3"
  },
  "language_info": {
   "codemirror_mode": {
    "name": "ipython",
    "version": 3
   },
   "file_extension": ".py",
   "mimetype": "text/x-python",
   "name": "python",
   "nbconvert_exporter": "python",
   "pygments_lexer": "ipython3",
   "version": "3.8.5"
  }
 },
 "nbformat": 4,
 "nbformat_minor": 4
}
