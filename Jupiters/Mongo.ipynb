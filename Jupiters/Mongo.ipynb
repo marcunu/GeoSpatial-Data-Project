{
 "cells": [
  {
   "cell_type": "code",
   "execution_count": 67,
   "metadata": {},
   "outputs": [],
   "source": [
    "from pymongo import MongoClient\n",
    "import pandas as pd"
   ]
  },
  {
   "cell_type": "code",
   "execution_count": 2,
   "metadata": {},
   "outputs": [],
   "source": [
    "client = MongoClient(\"localhost:27017\")"
   ]
  },
  {
   "cell_type": "code",
   "execution_count": 3,
   "metadata": {},
   "outputs": [
    {
     "data": {
      "text/plain": [
       "['Quotes',\n",
       " 'Species',\n",
       " 'admin',\n",
       " 'companies',\n",
       " 'config',\n",
       " 'final',\n",
       " 'geo',\n",
       " 'labflask',\n",
       " 'local']"
      ]
     },
     "execution_count": 3,
     "metadata": {},
     "output_type": "execute_result"
    }
   ],
   "source": [
    "client.list_database_names()"
   ]
  },
  {
   "cell_type": "code",
   "execution_count": 4,
   "metadata": {},
   "outputs": [],
   "source": [
    "companies = client.get_database(\"companies\")"
   ]
  },
  {
   "cell_type": "code",
   "execution_count": 5,
   "metadata": {},
   "outputs": [
    {
     "data": {
      "text/plain": [
       "['companies', 'offices']"
      ]
     },
     "execution_count": 5,
     "metadata": {},
     "output_type": "execute_result"
    }
   ],
   "source": [
    "companies.list_collection_names()"
   ]
  },
  {
   "cell_type": "code",
   "execution_count": 6,
   "metadata": {},
   "outputs": [],
   "source": [
    "comp = companies.get_collection(\"companies\")"
   ]
  },
  {
   "cell_type": "markdown",
   "metadata": {},
   "source": [
    "We need companies active in the `gaming industry`.\n",
    "\n",
    "Therefore we use the function `.distinct()` to see the different types of company using the `catergory_code` parameter."
   ]
  },
  {
   "cell_type": "code",
   "execution_count": 35,
   "metadata": {
    "scrolled": true
   },
   "outputs": [
    {
     "data": {
      "text/plain": [
       "[None,\n",
       " 'advertising',\n",
       " 'analytics',\n",
       " 'automotive',\n",
       " 'biotech',\n",
       " 'cleantech',\n",
       " 'consulting',\n",
       " 'design',\n",
       " 'ecommerce',\n",
       " 'education',\n",
       " 'enterprise',\n",
       " 'fashion',\n",
       " 'finance',\n",
       " 'games_video',\n",
       " 'government',\n",
       " 'hardware',\n",
       " 'health',\n",
       " 'hospitality',\n",
       " 'legal',\n",
       " 'local',\n",
       " 'manufacturing',\n",
       " 'medical',\n",
       " 'messaging',\n",
       " 'mobile',\n",
       " 'music',\n",
       " 'nanotech',\n",
       " 'network_hosting',\n",
       " 'news',\n",
       " 'nonprofit',\n",
       " 'other',\n",
       " 'photo_video',\n",
       " 'public_relations',\n",
       " 'real_estate',\n",
       " 'search',\n",
       " 'security',\n",
       " 'semiconductor',\n",
       " 'social',\n",
       " 'software',\n",
       " 'sports',\n",
       " 'transportation',\n",
       " 'travel',\n",
       " 'web']"
      ]
     },
     "execution_count": 35,
     "metadata": {},
     "output_type": "execute_result"
    }
   ],
   "source": [
    "comp.distinct(\"category_code\")"
   ]
  },
  {
   "cell_type": "code",
   "execution_count": 27,
   "metadata": {},
   "outputs": [],
   "source": [
    "cond1 = {\"category_code\":\"games_video\"}"
   ]
  },
  {
   "cell_type": "markdown",
   "metadata": {},
   "source": [
    "We also need companies with more than 87 employees.\n",
    "* 20 Designers\n",
    "* 5 UI/UX Engineers\n",
    "* 10 Frontend Developers\n",
    "* 15 Data Engineers\n",
    "* 5 Backend Developers\n",
    "* 20 Account Managers\n",
    "* 1 Maintenance guy that loves basketball\n",
    "* 10 Executives\n",
    "* 1 CEO/President"
   ]
  },
  {
   "cell_type": "code",
   "execution_count": 34,
   "metadata": {},
   "outputs": [],
   "source": [
    "cond2 = {\"number_of_employees\": {\"$gt\":87}}"
   ]
  },
  {
   "cell_type": "code",
   "execution_count": 15,
   "metadata": {},
   "outputs": [],
   "source": [
    "proj = {\"name\":1,\"offices.city\":1}"
   ]
  },
  {
   "cell_type": "code",
   "execution_count": 82,
   "metadata": {},
   "outputs": [],
   "source": [
    "gaming = list(comp.find({\"$and\": [cond1,cond2]}, proj))"
   ]
  },
  {
   "cell_type": "code",
   "execution_count": 87,
   "metadata": {},
   "outputs": [
    {
     "data": {
      "text/plain": [
       "'New York'"
      ]
     },
     "execution_count": 87,
     "metadata": {},
     "output_type": "execute_result"
    }
   ],
   "source": [
    "gaming[0].get(\"offices\")[0].get(\"city\")"
   ]
  },
  {
   "cell_type": "code",
   "execution_count": 92,
   "metadata": {},
   "outputs": [],
   "source": [
    "empresas = []\n",
    "\n",
    "try:\n",
    "    \n",
    "    for emp in gaming:\n",
    "\n",
    "        if len(emp.get(\"offices\")) > 1:\n",
    "\n",
    "            for i in range(len(emp.get(\"offices\"))):\n",
    "\n",
    "                dicc = {\n",
    "                    \"Name\" : emp.get(\"name\"),\n",
    "                    \"city\" : emp.get(\"offices\")[i].get(\"city\")\n",
    "                }\n",
    "\n",
    "                empresas.append(dicc)\n",
    "\n",
    "        else:\n",
    "\n",
    "            dicc = {\n",
    "                \"Name\" : emp.get(\"name\"),\n",
    "                \"city\" : emp.get(\"offices\")[0].get(\"city\")\n",
    "            }\n",
    "\n",
    "            empresas.append(dicc)\n",
    "            \n",
    "except:\n",
    "    \n",
    "    None\n",
    "\n",
    "df_gaming = pd.DataFrame(empresas)"
   ]
  },
  {
   "cell_type": "markdown",
   "metadata": {},
   "source": [
    "These are the `Gaming` companies with more than 87 employees."
   ]
  },
  {
   "cell_type": "code",
   "execution_count": 93,
   "metadata": {},
   "outputs": [
    {
     "data": {
      "text/html": [
       "<div>\n",
       "<style scoped>\n",
       "    .dataframe tbody tr th:only-of-type {\n",
       "        vertical-align: middle;\n",
       "    }\n",
       "\n",
       "    .dataframe tbody tr th {\n",
       "        vertical-align: top;\n",
       "    }\n",
       "\n",
       "    .dataframe thead th {\n",
       "        text-align: right;\n",
       "    }\n",
       "</style>\n",
       "<table border=\"1\" class=\"dataframe\">\n",
       "  <thead>\n",
       "    <tr style=\"text-align: right;\">\n",
       "      <th></th>\n",
       "      <th>Name</th>\n",
       "      <th>city</th>\n",
       "    </tr>\n",
       "  </thead>\n",
       "  <tbody>\n",
       "    <tr>\n",
       "      <th>0</th>\n",
       "      <td>Livestream</td>\n",
       "      <td>New York</td>\n",
       "    </tr>\n",
       "    <tr>\n",
       "      <th>1</th>\n",
       "      <td>Ustream</td>\n",
       "      <td>San Francisco</td>\n",
       "    </tr>\n",
       "    <tr>\n",
       "      <th>2</th>\n",
       "      <td>Ustream</td>\n",
       "      <td>Los Angeles</td>\n",
       "    </tr>\n",
       "    <tr>\n",
       "      <th>3</th>\n",
       "      <td>Ustream</td>\n",
       "      <td>Budapest</td>\n",
       "    </tr>\n",
       "    <tr>\n",
       "      <th>4</th>\n",
       "      <td>RockYou</td>\n",
       "      <td>Redwood City</td>\n",
       "    </tr>\n",
       "    <tr>\n",
       "      <th>5</th>\n",
       "      <td>hi5</td>\n",
       "      <td>San Francisco</td>\n",
       "    </tr>\n",
       "    <tr>\n",
       "      <th>6</th>\n",
       "      <td>Nintendo</td>\n",
       "      <td>None</td>\n",
       "    </tr>\n",
       "    <tr>\n",
       "      <th>7</th>\n",
       "      <td>The Walt Disney Company</td>\n",
       "      <td>Burbank</td>\n",
       "    </tr>\n",
       "    <tr>\n",
       "      <th>8</th>\n",
       "      <td>Zango</td>\n",
       "      <td>Bellevue</td>\n",
       "    </tr>\n",
       "    <tr>\n",
       "      <th>9</th>\n",
       "      <td>hulu</td>\n",
       "      <td>Los Angeles</td>\n",
       "    </tr>\n",
       "    <tr>\n",
       "      <th>10</th>\n",
       "      <td>mig33</td>\n",
       "      <td>Singapore</td>\n",
       "    </tr>\n",
       "    <tr>\n",
       "      <th>11</th>\n",
       "      <td>Zynga</td>\n",
       "      <td>San Francisco</td>\n",
       "    </tr>\n",
       "    <tr>\n",
       "      <th>12</th>\n",
       "      <td>Zynga</td>\n",
       "      <td></td>\n",
       "    </tr>\n",
       "    <tr>\n",
       "      <th>13</th>\n",
       "      <td>Zynga</td>\n",
       "      <td>Baltimore</td>\n",
       "    </tr>\n",
       "    <tr>\n",
       "      <th>14</th>\n",
       "      <td>Zynga</td>\n",
       "      <td>Los Angeles</td>\n",
       "    </tr>\n",
       "    <tr>\n",
       "      <th>15</th>\n",
       "      <td>GameDuell</td>\n",
       "      <td>San Francisco</td>\n",
       "    </tr>\n",
       "    <tr>\n",
       "      <th>16</th>\n",
       "      <td>GameDuell</td>\n",
       "      <td>Berlin</td>\n",
       "    </tr>\n",
       "    <tr>\n",
       "      <th>17</th>\n",
       "      <td>Netflix</td>\n",
       "      <td>Los Gatos</td>\n",
       "    </tr>\n",
       "    <tr>\n",
       "      <th>18</th>\n",
       "      <td>Social Gaming Network</td>\n",
       "      <td>Los Angeles</td>\n",
       "    </tr>\n",
       "    <tr>\n",
       "      <th>19</th>\n",
       "      <td>Social Gaming Network</td>\n",
       "      <td>Beverly Hills</td>\n",
       "    </tr>\n",
       "    <tr>\n",
       "      <th>20</th>\n",
       "      <td>Boonty</td>\n",
       "      <td>New York</td>\n",
       "    </tr>\n",
       "    <tr>\n",
       "      <th>21</th>\n",
       "      <td>FriendFinder Networks</td>\n",
       "      <td>Boca Raton</td>\n",
       "    </tr>\n",
       "    <tr>\n",
       "      <th>22</th>\n",
       "      <td>Realtime Worlds</td>\n",
       "      <td>Dundee</td>\n",
       "    </tr>\n",
       "    <tr>\n",
       "      <th>23</th>\n",
       "      <td>Realtime Worlds</td>\n",
       "      <td>Boulder</td>\n",
       "    </tr>\n",
       "    <tr>\n",
       "      <th>24</th>\n",
       "      <td>Comcast</td>\n",
       "      <td>Philadelphia</td>\n",
       "    </tr>\n",
       "    <tr>\n",
       "      <th>25</th>\n",
       "      <td>Modern Feed</td>\n",
       "      <td>Los Angeles</td>\n",
       "    </tr>\n",
       "    <tr>\n",
       "      <th>26</th>\n",
       "      <td>Kabam</td>\n",
       "      <td>San Francisco</td>\n",
       "    </tr>\n",
       "    <tr>\n",
       "      <th>27</th>\n",
       "      <td>Kabam</td>\n",
       "      <td>Beijing</td>\n",
       "    </tr>\n",
       "    <tr>\n",
       "      <th>28</th>\n",
       "      <td>Turbine</td>\n",
       "      <td>Westwood</td>\n",
       "    </tr>\n",
       "    <tr>\n",
       "      <th>29</th>\n",
       "      <td>Turbine</td>\n",
       "      <td>Redwood City</td>\n",
       "    </tr>\n",
       "    <tr>\n",
       "      <th>30</th>\n",
       "      <td>iWin</td>\n",
       "      <td>San Francisco</td>\n",
       "    </tr>\n",
       "    <tr>\n",
       "      <th>31</th>\n",
       "      <td>CCP Games</td>\n",
       "      <td>Reykjavik</td>\n",
       "    </tr>\n",
       "    <tr>\n",
       "      <th>32</th>\n",
       "      <td>CCP Games</td>\n",
       "      <td>Stone Mountain</td>\n",
       "    </tr>\n",
       "    <tr>\n",
       "      <th>33</th>\n",
       "      <td>Vostu</td>\n",
       "      <td>Buenos Aires</td>\n",
       "    </tr>\n",
       "    <tr>\n",
       "      <th>34</th>\n",
       "      <td>VBS TV</td>\n",
       "      <td>Brooklyn</td>\n",
       "    </tr>\n",
       "    <tr>\n",
       "      <th>35</th>\n",
       "      <td>9You</td>\n",
       "      <td>Shanghai</td>\n",
       "    </tr>\n",
       "  </tbody>\n",
       "</table>\n",
       "</div>"
      ],
      "text/plain": [
       "                       Name            city\n",
       "0                Livestream        New York\n",
       "1                   Ustream   San Francisco\n",
       "2                   Ustream     Los Angeles\n",
       "3                   Ustream        Budapest\n",
       "4                   RockYou    Redwood City\n",
       "5                       hi5   San Francisco\n",
       "6                  Nintendo            None\n",
       "7   The Walt Disney Company         Burbank\n",
       "8                     Zango        Bellevue\n",
       "9                      hulu     Los Angeles\n",
       "10                    mig33       Singapore\n",
       "11                    Zynga   San Francisco\n",
       "12                    Zynga                \n",
       "13                    Zynga       Baltimore\n",
       "14                    Zynga     Los Angeles\n",
       "15                GameDuell   San Francisco\n",
       "16                GameDuell          Berlin\n",
       "17                  Netflix       Los Gatos\n",
       "18    Social Gaming Network     Los Angeles\n",
       "19    Social Gaming Network   Beverly Hills\n",
       "20                   Boonty        New York\n",
       "21    FriendFinder Networks      Boca Raton\n",
       "22          Realtime Worlds          Dundee\n",
       "23          Realtime Worlds         Boulder\n",
       "24                  Comcast    Philadelphia\n",
       "25              Modern Feed     Los Angeles\n",
       "26                    Kabam   San Francisco\n",
       "27                    Kabam         Beijing\n",
       "28                  Turbine        Westwood\n",
       "29                  Turbine    Redwood City\n",
       "30                     iWin   San Francisco\n",
       "31                CCP Games       Reykjavik\n",
       "32                CCP Games  Stone Mountain\n",
       "33                    Vostu    Buenos Aires\n",
       "34                   VBS TV        Brooklyn\n",
       "35                     9You        Shanghai"
      ]
     },
     "execution_count": 93,
     "metadata": {},
     "output_type": "execute_result"
    }
   ],
   "source": [
    "df_gaming"
   ]
  },
  {
   "cell_type": "markdown",
   "metadata": {},
   "source": [
    "Developers like to be near successful tech startups that have raised at least 1 Million dollars. So we need to find those companies and where are they located."
   ]
  },
  {
   "cell_type": "code",
   "execution_count": 48,
   "metadata": {},
   "outputs": [],
   "source": [
    "cond3 = {\"tag_list\":{\"$regex\":\"/*start-up*\"}}"
   ]
  },
  {
   "cell_type": "code",
   "execution_count": 52,
   "metadata": {},
   "outputs": [],
   "source": [
    "cond4 = {\"total_money_raised\":{\"$gt\":\"$1M\"}}"
   ]
  },
  {
   "cell_type": "code",
   "execution_count": 53,
   "metadata": {},
   "outputs": [],
   "source": [
    "proj = {\"name\":1,\"offices.city\":1}"
   ]
  },
  {
   "cell_type": "code",
   "execution_count": 57,
   "metadata": {
    "scrolled": true
   },
   "outputs": [],
   "source": [
    "start_up = list(comp.find({\"$and\": [cond3,cond4]}, proj))"
   ]
  },
  {
   "cell_type": "code",
   "execution_count": 78,
   "metadata": {},
   "outputs": [],
   "source": [
    "s_up=[]\n",
    "\n",
    "for emp in start_up:\n",
    "    \n",
    "    if len(emp.get(\"offices\")) > 1:\n",
    "        \n",
    "        for i in range(len(emp.get(\"offices\"))):\n",
    "            \n",
    "            dicc = {\n",
    "                \"Name\" : emp.get(\"name\"),\n",
    "                \"city\" : emp.get(\"offices\")[i].get(\"city\")\n",
    "            }\n",
    "            \n",
    "            s_up.append(dicc)\n",
    "        \n",
    "    else:\n",
    "        \n",
    "        dicc = {\n",
    "            \"Name\" : emp.get(\"name\"),\n",
    "            \"city\" : emp.get(\"offices\")[0].get(\"city\")\n",
    "        }\n",
    "        \n",
    "        s_up.append(dicc)\n",
    "\n",
    "df_sup = pd.DataFrame(s_up)"
   ]
  },
  {
   "cell_type": "markdown",
   "metadata": {},
   "source": [
    "This are the `Start-Up` companies that have raise more than `1 Million`."
   ]
  },
  {
   "cell_type": "code",
   "execution_count": 79,
   "metadata": {},
   "outputs": [
    {
     "data": {
      "text/html": [
       "<div>\n",
       "<style scoped>\n",
       "    .dataframe tbody tr th:only-of-type {\n",
       "        vertical-align: middle;\n",
       "    }\n",
       "\n",
       "    .dataframe tbody tr th {\n",
       "        vertical-align: top;\n",
       "    }\n",
       "\n",
       "    .dataframe thead th {\n",
       "        text-align: right;\n",
       "    }\n",
       "</style>\n",
       "<table border=\"1\" class=\"dataframe\">\n",
       "  <thead>\n",
       "    <tr style=\"text-align: right;\">\n",
       "      <th></th>\n",
       "      <th>Name</th>\n",
       "      <th>city</th>\n",
       "    </tr>\n",
       "  </thead>\n",
       "  <tbody>\n",
       "    <tr>\n",
       "      <th>0</th>\n",
       "      <td>Moviestorm</td>\n",
       "      <td>Cambridge</td>\n",
       "    </tr>\n",
       "    <tr>\n",
       "      <th>1</th>\n",
       "      <td>MojoPages</td>\n",
       "      <td>San Diego</td>\n",
       "    </tr>\n",
       "    <tr>\n",
       "      <th>2</th>\n",
       "      <td>MojoPages</td>\n",
       "      <td>Calabassas</td>\n",
       "    </tr>\n",
       "    <tr>\n",
       "      <th>3</th>\n",
       "      <td>Getyoo</td>\n",
       "      <td>Brussels</td>\n",
       "    </tr>\n",
       "  </tbody>\n",
       "</table>\n",
       "</div>"
      ],
      "text/plain": [
       "         Name        city\n",
       "0  Moviestorm   Cambridge\n",
       "1   MojoPages   San Diego\n",
       "2   MojoPages  Calabassas\n",
       "3      Getyoo    Brussels"
      ]
     },
     "execution_count": 79,
     "metadata": {},
     "output_type": "execute_result"
    }
   ],
   "source": [
    "df_sup"
   ]
  },
  {
   "cell_type": "code",
   "execution_count": null,
   "metadata": {},
   "outputs": [],
   "source": []
  }
 ],
 "metadata": {
  "kernelspec": {
   "display_name": "Python 3",
   "language": "python",
   "name": "python3"
  },
  "language_info": {
   "codemirror_mode": {
    "name": "ipython",
    "version": 3
   },
   "file_extension": ".py",
   "mimetype": "text/x-python",
   "name": "python",
   "nbconvert_exporter": "python",
   "pygments_lexer": "ipython3",
   "version": "3.8.5"
  }
 },
 "nbformat": 4,
 "nbformat_minor": 4
}
