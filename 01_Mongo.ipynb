{
 "cells": [
  {
   "cell_type": "markdown",
   "metadata": {},
   "source": [
    "<img src=\"https://i.imgur.com/lxGDc73.gif\">"
   ]
  },
  {
   "cell_type": "markdown",
   "metadata": {},
   "source": [
    "# Gaming companies\n",
    "\n",
    "As a data engineer I have asked all the employees to show their preferences on where to place the new office. The goal is to place the new company offices in the best place for the company to grow. I have to find a place that more or less covers all the requirements.\n",
    "\n"
   ]
  },
  {
   "cell_type": "markdown",
   "metadata": {},
   "source": [
    "## Import the necessary libraries"
   ]
  },
  {
   "cell_type": "code",
   "execution_count": 4,
   "metadata": {},
   "outputs": [],
   "source": [
    "from pymongo import MongoClient\n",
    "import pandas as pd"
   ]
  },
  {
   "cell_type": "markdown",
   "metadata": {},
   "source": [
    "<img width=400 src=\"https://cdn.dribbble.com/users/776867/screenshots/6179644/mongogooo.gif\">"
   ]
  },
  {
   "cell_type": "markdown",
   "metadata": {},
   "source": [
    "## Conect with `MongoDb`"
   ]
  },
  {
   "cell_type": "code",
   "execution_count": 5,
   "metadata": {},
   "outputs": [],
   "source": [
    "client = MongoClient(\"localhost:27017\")"
   ]
  },
  {
   "cell_type": "markdown",
   "metadata": {},
   "source": [
    "We need to check which are the different collections:"
   ]
  },
  {
   "cell_type": "code",
   "execution_count": 6,
   "metadata": {},
   "outputs": [
    {
     "data": {
      "text/plain": [
       "['Proyecto',\n",
       " 'Quotes',\n",
       " 'Species',\n",
       " 'admin',\n",
       " 'companies',\n",
       " 'config',\n",
       " 'final',\n",
       " 'geo',\n",
       " 'labflask',\n",
       " 'local']"
      ]
     },
     "execution_count": 6,
     "metadata": {},
     "output_type": "execute_result"
    }
   ],
   "source": [
    "client.list_database_names()"
   ]
  },
  {
   "cell_type": "markdown",
   "metadata": {},
   "source": [
    "We choose the database called `Companies`."
   ]
  },
  {
   "cell_type": "code",
   "execution_count": 7,
   "metadata": {},
   "outputs": [],
   "source": [
    "companies = client.get_database(\"companies\")"
   ]
  },
  {
   "cell_type": "markdown",
   "metadata": {},
   "source": [
    "Inside the database Companies, we choose the collection called `Companies`."
   ]
  },
  {
   "cell_type": "code",
   "execution_count": 8,
   "metadata": {},
   "outputs": [
    {
     "data": {
      "text/plain": [
       "['companies', 'offices']"
      ]
     },
     "execution_count": 8,
     "metadata": {},
     "output_type": "execute_result"
    }
   ],
   "source": [
    "companies.list_collection_names()"
   ]
  },
  {
   "cell_type": "code",
   "execution_count": 9,
   "metadata": {},
   "outputs": [],
   "source": [
    "comp = companies.get_collection(\"companies\")"
   ]
  },
  {
   "cell_type": "markdown",
   "metadata": {},
   "source": [
    "<img width=300 src=\"https://i.gifer.com/76aE.gif\">"
   ]
  },
  {
   "cell_type": "markdown",
   "metadata": {},
   "source": [
    "### We need companies active in the `gaming industry`."
   ]
  },
  {
   "cell_type": "markdown",
   "metadata": {},
   "source": [
    "Therefore we use the function `.distinct()` to see the different types of company using the `catergory_code` parameter."
   ]
  },
  {
   "cell_type": "code",
   "execution_count": 10,
   "metadata": {
    "scrolled": true
   },
   "outputs": [
    {
     "data": {
      "text/plain": [
       "[None,\n",
       " 'advertising',\n",
       " 'analytics',\n",
       " 'automotive',\n",
       " 'biotech',\n",
       " 'cleantech',\n",
       " 'consulting',\n",
       " 'design',\n",
       " 'ecommerce',\n",
       " 'education',\n",
       " 'enterprise',\n",
       " 'fashion',\n",
       " 'finance',\n",
       " 'games_video',\n",
       " 'government',\n",
       " 'hardware',\n",
       " 'health',\n",
       " 'hospitality',\n",
       " 'legal',\n",
       " 'local',\n",
       " 'manufacturing',\n",
       " 'medical',\n",
       " 'messaging',\n",
       " 'mobile',\n",
       " 'music',\n",
       " 'nanotech',\n",
       " 'network_hosting',\n",
       " 'news',\n",
       " 'nonprofit',\n",
       " 'other',\n",
       " 'photo_video',\n",
       " 'public_relations',\n",
       " 'real_estate',\n",
       " 'search',\n",
       " 'security',\n",
       " 'semiconductor',\n",
       " 'social',\n",
       " 'software',\n",
       " 'sports',\n",
       " 'transportation',\n",
       " 'travel',\n",
       " 'web']"
      ]
     },
     "execution_count": 10,
     "metadata": {},
     "output_type": "execute_result"
    }
   ],
   "source": [
    "comp.distinct(\"category_code\")"
   ]
  },
  {
   "cell_type": "code",
   "execution_count": 11,
   "metadata": {},
   "outputs": [],
   "source": [
    "cond1 = {\"category_code\":\"games_video\"}"
   ]
  },
  {
   "cell_type": "code",
   "execution_count": 12,
   "metadata": {},
   "outputs": [],
   "source": [
    "cond2 = {\"tag_list\":{\"$regex\":\"/*gaming*\"}}"
   ]
  },
  {
   "cell_type": "markdown",
   "metadata": {},
   "source": [
    "<img width=300 src=\"https://tufuturo.cl/wp-content/uploads/2020/01/d370e515ecba80b8cc994e849fd0c44d.gif\">"
   ]
  },
  {
   "cell_type": "markdown",
   "metadata": {},
   "source": [
    "### We also need companies with more than 87 employees.\n",
    "* 20 Designers\n",
    "* 5 UI/UX Engineers\n",
    "* 10 Frontend Developers\n",
    "* 15 Data Engineers\n",
    "* 5 Backend Developers\n",
    "* 20 Account Managers\n",
    "* 1 Maintenance guy that loves basketball\n",
    "* 10 Executives\n",
    "* 1 CEO/President"
   ]
  },
  {
   "cell_type": "code",
   "execution_count": 13,
   "metadata": {},
   "outputs": [],
   "source": [
    "cond3 = {\"number_of_employees\": {\"$gt\":87}}"
   ]
  },
  {
   "cell_type": "markdown",
   "metadata": {},
   "source": [
    "In order to have a better visualization of the data we only select the `name`, `where` the company is and the `number of employees`."
   ]
  },
  {
   "cell_type": "code",
   "execution_count": 14,
   "metadata": {},
   "outputs": [],
   "source": [
    "proj = {\"name\":1,\"offices.city\":1, \"number_of_employees\":1, \"offices.latitude\":1, \"office.longitude\":1}"
   ]
  },
  {
   "cell_type": "code",
   "execution_count": 16,
   "metadata": {},
   "outputs": [
    {
     "data": {
      "text/plain": [
       "[{'_id': ObjectId('52cdef7c4bab8bd675297dc0'),\n",
       "  'name': 'Livestream',\n",
       "  'number_of_employees': 120,\n",
       "  'offices': [{'city': 'New York', 'latitude': 40.726155}]},\n",
       " {'_id': ObjectId('52cdef7c4bab8bd675297dc1'),\n",
       "  'name': 'Ustream',\n",
       "  'number_of_employees': 250,\n",
       "  'offices': [{'city': 'San Francisco', 'latitude': 37.392936},\n",
       "   {'city': 'Los Angeles', 'latitude': None},\n",
       "   {'city': 'Budapest', 'latitude': None}]},\n",
       " {'_id': ObjectId('52cdef7c4bab8bd675297df0'),\n",
       "  'name': 'RockYou',\n",
       "  'number_of_employees': 106,\n",
       "  'offices': [{'city': 'Redwood City', 'latitude': 37.484619}]},\n",
       " {'_id': ObjectId('52cdef7c4bab8bd675297e44'),\n",
       "  'name': 'hi5',\n",
       "  'number_of_employees': 100,\n",
       "  'offices': [{'city': 'San Francisco', 'latitude': 37.788668}]},\n",
       " {'_id': ObjectId('52cdef7c4bab8bd675297e49'),\n",
       "  'name': 'Nintendo',\n",
       "  'number_of_employees': 5080,\n",
       "  'offices': [{'city': None, 'latitude': 36.204824}]},\n",
       " {'_id': ObjectId('52cdef7c4bab8bd675297e8e'),\n",
       "  'name': 'The Walt Disney Company',\n",
       "  'number_of_employees': 25000,\n",
       "  'offices': [{'city': 'Burbank', 'latitude': 34.156802}]},\n",
       " {'_id': ObjectId('52cdef7c4bab8bd675297eff'),\n",
       "  'name': 'Zango',\n",
       "  'number_of_employees': 225,\n",
       "  'offices': [{'city': 'Bellevue', 'latitude': 47.579208}]},\n",
       " {'_id': ObjectId('52cdef7c4bab8bd675297f81'),\n",
       "  'name': 'hulu',\n",
       "  'number_of_employees': 153,\n",
       "  'offices': [{'city': 'Los Angeles', 'latitude': 34.031276}]},\n",
       " {'_id': ObjectId('52cdef7c4bab8bd675297fda'),\n",
       "  'name': 'mig33',\n",
       "  'number_of_employees': 100,\n",
       "  'offices': [{'city': 'Singapore', 'latitude': 37.580304}]},\n",
       " {'_id': ObjectId('52cdef7c4bab8bd6752981e1'),\n",
       "  'name': 'Zynga',\n",
       "  'number_of_employees': 115,\n",
       "  'offices': [{'city': 'San Francisco', 'latitude': 37.765158},\n",
       "   {'city': '', 'latitude': None},\n",
       "   {'city': 'Baltimore', 'latitude': None},\n",
       "   {'city': 'Los Angeles', 'latitude': None}]},\n",
       " {'_id': ObjectId('52cdef7c4bab8bd6752982a6'),\n",
       "  'name': 'GameDuell',\n",
       "  'number_of_employees': 200,\n",
       "  'offices': [{'city': 'San Francisco', 'latitude': None},\n",
       "   {'city': 'Berlin', 'latitude': 52.5131826}]},\n",
       " {'_id': ObjectId('52cdef7c4bab8bd675298300'),\n",
       "  'name': 'Netflix',\n",
       "  'number_of_employees': 2000,\n",
       "  'offices': [{'city': 'Los Gatos', 'latitude': 37.25142}]},\n",
       " {'_id': ObjectId('52cdef7c4bab8bd67529831a'),\n",
       "  'name': 'Social Gaming Network',\n",
       "  'number_of_employees': 100,\n",
       "  'offices': [{'city': 'Los Angeles', 'latitude': 37.446823},\n",
       "   {'city': 'Beverly Hills', 'latitude': 34.0698494}]},\n",
       " {'_id': ObjectId('52cdef7c4bab8bd675298443'),\n",
       "  'name': 'Boonty',\n",
       "  'number_of_employees': 150,\n",
       "  'offices': [{'city': 'New York', 'latitude': 40.717248}]},\n",
       " {'_id': ObjectId('52cdef7c4bab8bd675298503'),\n",
       "  'name': 'FriendFinder Networks',\n",
       "  'number_of_employees': 350,\n",
       "  'offices': [{'city': 'Boca Raton', 'latitude': 26.4074809}]},\n",
       " {'_id': ObjectId('52cdef7c4bab8bd67529868c'),\n",
       "  'name': 'Realtime Worlds',\n",
       "  'number_of_employees': 225,\n",
       "  'offices': [{'city': 'Dundee', 'latitude': 56.461428},\n",
       "   {'city': 'Boulder', 'latitude': 40.010492}]},\n",
       " {'_id': ObjectId('52cdef7c4bab8bd6752987ad'),\n",
       "  'name': 'Comcast',\n",
       "  'number_of_employees': 100000,\n",
       "  'offices': [{'city': 'Philadelphia', 'latitude': 39.9525762}]},\n",
       " {'_id': ObjectId('52cdef7d4bab8bd6752988ac'),\n",
       "  'name': 'Modern Feed',\n",
       "  'number_of_employees': 123,\n",
       "  'offices': [{'city': 'Los Angeles', 'latitude': 34.085749}]},\n",
       " {'_id': ObjectId('52cdef7d4bab8bd67529893c'),\n",
       "  'name': 'Kabam',\n",
       "  'number_of_employees': 650,\n",
       "  'offices': [{'city': 'San Francisco', 'latitude': 37.3944561},\n",
       "   {'city': 'Beijing', 'latitude': None}]},\n",
       " {'_id': ObjectId('52cdef7d4bab8bd675298952'),\n",
       "  'name': 'Turbine',\n",
       "  'number_of_employees': 200,\n",
       "  'offices': [{'city': 'Westwood', 'latitude': 42.214483},\n",
       "   {'city': 'Redwood City', 'latitude': 37.477652}]},\n",
       " {'_id': ObjectId('52cdef7d4bab8bd675298bbe'),\n",
       "  'name': 'iWin',\n",
       "  'number_of_employees': 103,\n",
       "  'offices': [{'city': 'San Francisco', 'latitude': 37.781689}]},\n",
       " {'_id': ObjectId('52cdef7d4bab8bd675298caf'),\n",
       "  'name': 'CCP Games',\n",
       "  'number_of_employees': 360,\n",
       "  'offices': [{'city': 'Reykjavik', 'latitude': None},\n",
       "   {'city': 'Stone Mountain', 'latitude': 33.817752}]},\n",
       " {'_id': ObjectId('52cdef7d4bab8bd675298d8b'),\n",
       "  'name': 'Vostu',\n",
       "  'number_of_employees': 550,\n",
       "  'offices': [{'city': 'Buenos Aires', 'latitude': None}]},\n",
       " {'_id': ObjectId('52cdef7d4bab8bd675298f04'),\n",
       "  'name': 'AdParlor',\n",
       "  'number_of_employees': 300,\n",
       "  'offices': [{'city': 'Toronto, Ontario', 'latitude': 43.8356434},\n",
       "   {'city': 'New York', 'latitude': 40.7262412},\n",
       "   {'city': 'Covent Garden, London', 'latitude': 51.5119883},\n",
       "   {'city': 'San Francisco', 'latitude': 37.78866},\n",
       "   {'city': 'Shanghai', 'latitude': 31.224588},\n",
       "   {'city': 'Paris', 'latitude': 48.8506065}]},\n",
       " {'_id': ObjectId('52cdef7d4bab8bd675298f18'),\n",
       "  'name': 'VBS TV',\n",
       "  'number_of_employees': 100,\n",
       "  'offices': [{'city': 'Brooklyn', 'latitude': 40.720764}]},\n",
       " {'_id': ObjectId('52cdef7d4bab8bd67529914d'),\n",
       "  'name': '9You',\n",
       "  'number_of_employees': 460,\n",
       "  'offices': [{'city': 'Shanghai', 'latitude': None}]},\n",
       " {'_id': ObjectId('52cdef7d4bab8bd675299218'),\n",
       "  'name': 'Future US',\n",
       "  'number_of_employees': 200,\n",
       "  'offices': []},\n",
       " {'_id': ObjectId('52cdef7d4bab8bd675299416'),\n",
       "  'name': 'Atari',\n",
       "  'number_of_employees': 400,\n",
       "  'offices': [{'city': 'New York', 'latitude': None}]},\n",
       " {'_id': ObjectId('52cdef7d4bab8bd675299421'),\n",
       "  'name': 'ngmoco',\n",
       "  'number_of_employees': 150,\n",
       "  'offices': [{'city': 'San Francisco', 'latitude': 37.7705096}]},\n",
       " {'_id': ObjectId('52cdef7d4bab8bd67529959e'),\n",
       "  'name': 'DeNA',\n",
       "  'number_of_employees': 2192,\n",
       "  'offices': [{'city': 'Tokyo', 'latitude': None}]},\n",
       " {'_id': ObjectId('52cdef7d4bab8bd675299928'),\n",
       "  'name': 'DeNA',\n",
       "  'number_of_employees': 2192,\n",
       "  'offices': [{'city': 'Tokyo', 'latitude': None}]},\n",
       " {'_id': ObjectId('52cdef7d4bab8bd675299ddf'),\n",
       "  'name': 'Whereismyboss',\n",
       "  'number_of_employees': 100,\n",
       "  'offices': [{'city': '', 'latitude': None}]},\n",
       " {'_id': ObjectId('52cdef7d4bab8bd675299ee3'),\n",
       "  'name': 'NativeX',\n",
       "  'number_of_employees': 150,\n",
       "  'offices': [{'city': 'Sartell', 'latitude': 45.5940066},\n",
       "   {'city': 'Minneapolis', 'latitude': 44.9758391},\n",
       "   {'city': 'San Francisco', 'latitude': None}]},\n",
       " {'_id': ObjectId('52cdef7d4bab8bd675299f54'),\n",
       "  'name': 'PlayNetwork',\n",
       "  'number_of_employees': 122,\n",
       "  'offices': []},\n",
       " {'_id': ObjectId('52cdef7d4bab8bd67529a045'),\n",
       "  'name': 'deltatre',\n",
       "  'number_of_employees': 225,\n",
       "  'offices': [{'city': 'Torino', 'latitude': 45.058576},\n",
       "   {'city': 'London', 'latitude': None},\n",
       "   {'city': 'Lausanne', 'latitude': None},\n",
       "   {'city': 'Paris', 'latitude': None},\n",
       "   {'city': 'New York', 'latitude': None}]},\n",
       " {'_id': ObjectId('52cdef7d4bab8bd67529a0f9'),\n",
       "  'name': 'Indiagames',\n",
       "  'number_of_employees': 300,\n",
       "  'offices': [{'city': 'Navi-Mumbai', 'latitude': None}]},\n",
       " {'_id': ObjectId('52cdef7d4bab8bd67529a23f'),\n",
       "  'name': 'SPIL GAMES',\n",
       "  'number_of_employees': 300,\n",
       "  'offices': [{'city': 'Hilversum', 'latitude': 52.220726},\n",
       "   {'city': '', 'latitude': None}]},\n",
       " {'_id': ObjectId('52cdef7e4bab8bd67529a3c6'),\n",
       "  'name': 'Miniclip',\n",
       "  'number_of_employees': 140,\n",
       "  'offices': [{'city': '', 'latitude': None}]},\n",
       " {'_id': ObjectId('52cdef7e4bab8bd67529a62d'),\n",
       "  'name': 'Southern California Public Radio',\n",
       "  'number_of_employees': 1000,\n",
       "  'offices': [{'city': 'Pasadena', 'latitude': None}]},\n",
       " {'_id': ObjectId('52cdef7e4bab8bd67529a8b4'),\n",
       "  'name': 'GREE',\n",
       "  'number_of_employees': 700,\n",
       "  'offices': [{'city': 'Tokyo', 'latitude': None}]},\n",
       " {'_id': ObjectId('52cdef7e4bab8bd67529a8b8'),\n",
       "  'name': 'RGB Networks',\n",
       "  'number_of_employees': 125,\n",
       "  'offices': [{'city': 'Sunnyvale', 'latitude': 37.4123706}]},\n",
       " {'_id': ObjectId('52cdef7e4bab8bd67529aad7'),\n",
       "  'name': 'Initiate Systems',\n",
       "  'number_of_employees': 280,\n",
       "  'offices': [{'city': 'Chicago', 'latitude': 41.882301}]},\n",
       " {'_id': ObjectId('52cdef7e4bab8bd67529aafc'),\n",
       "  'name': 'Fuel Industries',\n",
       "  'number_of_employees': 100,\n",
       "  'offices': [{'city': 'Ottawa', 'latitude': 45.4014866}]},\n",
       " {'_id': ObjectId('52cdef7e4bab8bd67529adab'),\n",
       "  'name': 'Nexway',\n",
       "  'number_of_employees': 160,\n",
       "  'offices': [{'city': 'Nanterre cedex', 'latitude': 48.8980441},\n",
       "   {'city': 'NÃ®mes cedex', 'latitude': 43.837967},\n",
       "   {'city': 'London', 'latitude': None},\n",
       "   {'city': 'Brussels', 'latitude': 50.7968479},\n",
       "   {'city': 'Frankfurt', 'latitude': None},\n",
       "   {'city': 'Madrid', 'latitude': 40.4142986},\n",
       "   {'city': 'Milano', 'latitude': None},\n",
       "   {'city': 'Singapore', 'latitude': 1.307505},\n",
       "   {'city': 'Tokyo', 'latitude': None},\n",
       "   {'city': 'Baar ZG', 'latitude': None},\n",
       "   {'city': 'Lisboa', 'latitude': None},\n",
       "   {'city': 'San Fransisco', 'latitude': None},\n",
       "   {'city': 'SÃ¢o Paulo', 'latitude': None}]},\n",
       " {'_id': ObjectId('52cdef7e4bab8bd67529aedf'),\n",
       "  'name': 'i-Jet Media',\n",
       "  'number_of_employees': 150,\n",
       "  'offices': [{'city': 'Sunnyvale', 'latitude': 37.384239},\n",
       "   {'city': 'Ekaterinburg', 'latitude': None}]},\n",
       " {'_id': ObjectId('52cdef7e4bab8bd67529b15d'),\n",
       "  'name': 'Turtle Entertainment',\n",
       "  'number_of_employees': 175,\n",
       "  'offices': [{'city': 'Cologne', 'latitude': 50.9272941}]},\n",
       " {'_id': ObjectId('52cdef7e4bab8bd67529b2da'),\n",
       "  'name': 'Unity Technologies',\n",
       "  'number_of_employees': 200,\n",
       "  'offices': [{'city': 'San Francisco', 'latitude': 55.6924605},\n",
       "   {'city': 'Frederiksberg', 'latitude': None}]},\n",
       " {'_id': ObjectId('52cdef7e4bab8bd67529b52e'),\n",
       "  'name': 'Z2Live',\n",
       "  'number_of_employees': 130,\n",
       "  'offices': [{'city': 'Seattle', 'latitude': 47.6103008}]},\n",
       " {'_id': ObjectId('52cdef7e4bab8bd67529b52f'),\n",
       "  'name': 'ZillionTV',\n",
       "  'number_of_employees': 100,\n",
       "  'offices': [{'city': 'Sunnyvale', 'latitude': 37.3738725},\n",
       "   {'city': 'Santa Monica', 'latitude': 34.016838}]},\n",
       " {'_id': ObjectId('52cdef7e4bab8bd67529b92b'),\n",
       "  'name': 'NaturalMotion',\n",
       "  'number_of_employees': 150,\n",
       "  'offices': [{'city': 'Oxford', 'latitude': None},\n",
       "   {'city': 'San Francisco', 'latitude': 37.7875304},\n",
       "   {'city': 'London', 'latitude': None}]},\n",
       " {'_id': ObjectId('52cdef7e4bab8bd67529b958'),\n",
       "  'name': 'Aspiro',\n",
       "  'number_of_employees': 115,\n",
       "  'offices': [{'city': 'Malmo', 'latitude': None}]},\n",
       " {'_id': ObjectId('52cdef7e4bab8bd67529b9de'),\n",
       "  'name': 'NewAuto Video Technology',\n",
       "  'number_of_employees': 500,\n",
       "  'offices': [{'city': 'Hubei', 'latitude': None}]},\n",
       " {'_id': ObjectId('52cdef7e4bab8bd67529ba13'),\n",
       "  'name': 'Linekong',\n",
       "  'number_of_employees': 600,\n",
       "  'offices': [{'city': 'Haidian, beijing', 'latitude': None}]},\n",
       " {'_id': ObjectId('52cdef7e4bab8bd67529bbc5'),\n",
       "  'name': 'PSR Productions',\n",
       "  'number_of_employees': 250,\n",
       "  'offices': []},\n",
       " {'_id': ObjectId('52cdef7e4bab8bd67529bcd6'),\n",
       "  'name': '2 Minutes',\n",
       "  'number_of_employees': 105,\n",
       "  'offices': [{'city': 'Paris', 'latitude': 48.8502056}]},\n",
       " {'_id': ObjectId('52cdef7f4bab8bd67529be17'),\n",
       "  'name': '888 Holdings',\n",
       "  'number_of_employees': 931,\n",
       "  'offices': []},\n",
       " {'_id': ObjectId('52cdef7f4bab8bd67529c0a0'),\n",
       "  'name': 'Zemoga',\n",
       "  'number_of_employees': 140,\n",
       "  'offices': [{'city': 'New York', 'latitude': 40.744697},\n",
       "   {'city': 'BogotÃ¡ D.C.', 'latitude': None},\n",
       "   {'city': 'Wilton', 'latitude': 41.1932851},\n",
       "   {'city': 'Walnut Creek', 'latitude': None}]},\n",
       " {'_id': ObjectId('52cdef7f4bab8bd67529c178'),\n",
       "  'name': 'Bigpoint',\n",
       "  'number_of_employees': 500,\n",
       "  'offices': [{'city': 'Hamburg', 'latitude': 53.5973055},\n",
       "   {'city': 'San Francisco', 'latitude': None},\n",
       "   {'city': 'Berlin', 'latitude': None},\n",
       "   {'city': \"Ta 'Xbiex\", 'latitude': None}]},\n",
       " {'_id': ObjectId('52cdef7f4bab8bd67529c1a9'),\n",
       "  'name': 'Exent',\n",
       "  'number_of_employees': 100,\n",
       "  'offices': [{'city': 'New York', 'latitude': 40.7523796},\n",
       "   {'city': 'Petach-Tikva', 'latitude': None},\n",
       "   {'city': 'San Francisco', 'latitude': 37.787646}]},\n",
       " {'_id': ObjectId('52cdef7f4bab8bd67529c5e9'),\n",
       "  'name': 'G5 Entertainment',\n",
       "  'number_of_employees': 107,\n",
       "  'offices': [{'city': 'Kharkov', 'latitude': None},\n",
       "   {'city': 'Stockholm', 'latitude': None},\n",
       "   {'city': 'San Francisco', 'latitude': None}]}]"
      ]
     },
     "execution_count": 16,
     "metadata": {},
     "output_type": "execute_result"
    }
   ],
   "source": [
    "gaming = list(comp.find({\"$and\":[{\"$or\": [cond1,cond2]},cond3]}, proj))\n",
    "gaming"
   ]
  },
  {
   "cell_type": "code",
   "execution_count": 97,
   "metadata": {},
   "outputs": [
    {
     "data": {
      "text/plain": [
       "'New York'"
      ]
     },
     "execution_count": 97,
     "metadata": {},
     "output_type": "execute_result"
    }
   ],
   "source": [
    "gaming[0].get(\"offices\")[0].get(\"city\")"
   ]
  },
  {
   "cell_type": "code",
   "execution_count": 21,
   "metadata": {},
   "outputs": [],
   "source": [
    "empresas = []\n",
    "\n",
    "try:\n",
    "    \n",
    "    for emp in gaming:\n",
    "\n",
    "        if len(emp.get(\"offices\")) > 1:\n",
    "\n",
    "            for i in range(len(emp.get(\"offices\"))):\n",
    "\n",
    "                dicc = {\n",
    "                    \"Name\" : emp.get(\"name\"),\n",
    "                    \"City\" : emp.get(\"offices\")[i].get(\"city\"),\n",
    "                    \"Number of employees\" : emp.get(\"number_of_employees\")\n",
    "                }\n",
    "\n",
    "                empresas.append(dicc)\n",
    "\n",
    "        else:\n",
    "\n",
    "            dicc = {\n",
    "                \"Name\" : emp.get(\"name\"),\n",
    "                \"City\" : emp.get(\"offices\")[0].get(\"city\"),\n",
    "                \"Number of employees\" : emp.get(\"number_of_employees\")\n",
    "            }\n",
    "\n",
    "            empresas.append(dicc)\n",
    "            \n",
    "except:\n",
    "    \n",
    "    None\n",
    "\n",
    "df_gaming = pd.DataFrame(empresas)"
   ]
  },
  {
   "cell_type": "markdown",
   "metadata": {},
   "source": [
    "Theese are the `Gaming` companies with more than 87 employees."
   ]
  },
  {
   "cell_type": "code",
   "execution_count": 22,
   "metadata": {
    "scrolled": true
   },
   "outputs": [
    {
     "data": {
      "text/html": [
       "<div>\n",
       "<style scoped>\n",
       "    .dataframe tbody tr th:only-of-type {\n",
       "        vertical-align: middle;\n",
       "    }\n",
       "\n",
       "    .dataframe tbody tr th {\n",
       "        vertical-align: top;\n",
       "    }\n",
       "\n",
       "    .dataframe thead th {\n",
       "        text-align: right;\n",
       "    }\n",
       "</style>\n",
       "<table border=\"1\" class=\"dataframe\">\n",
       "  <thead>\n",
       "    <tr style=\"text-align: right;\">\n",
       "      <th></th>\n",
       "      <th>Name</th>\n",
       "      <th>City</th>\n",
       "      <th>Number of employees</th>\n",
       "    </tr>\n",
       "  </thead>\n",
       "  <tbody>\n",
       "    <tr>\n",
       "      <th>0</th>\n",
       "      <td>Livestream</td>\n",
       "      <td>New York</td>\n",
       "      <td>120</td>\n",
       "    </tr>\n",
       "    <tr>\n",
       "      <th>1</th>\n",
       "      <td>Ustream</td>\n",
       "      <td>San Francisco</td>\n",
       "      <td>250</td>\n",
       "    </tr>\n",
       "    <tr>\n",
       "      <th>2</th>\n",
       "      <td>Ustream</td>\n",
       "      <td>Los Angeles</td>\n",
       "      <td>250</td>\n",
       "    </tr>\n",
       "    <tr>\n",
       "      <th>3</th>\n",
       "      <td>Ustream</td>\n",
       "      <td>Budapest</td>\n",
       "      <td>250</td>\n",
       "    </tr>\n",
       "    <tr>\n",
       "      <th>4</th>\n",
       "      <td>RockYou</td>\n",
       "      <td>Redwood City</td>\n",
       "      <td>106</td>\n",
       "    </tr>\n",
       "    <tr>\n",
       "      <th>5</th>\n",
       "      <td>hi5</td>\n",
       "      <td>San Francisco</td>\n",
       "      <td>100</td>\n",
       "    </tr>\n",
       "    <tr>\n",
       "      <th>6</th>\n",
       "      <td>Nintendo</td>\n",
       "      <td>None</td>\n",
       "      <td>5080</td>\n",
       "    </tr>\n",
       "    <tr>\n",
       "      <th>7</th>\n",
       "      <td>The Walt Disney Company</td>\n",
       "      <td>Burbank</td>\n",
       "      <td>25000</td>\n",
       "    </tr>\n",
       "    <tr>\n",
       "      <th>8</th>\n",
       "      <td>Zango</td>\n",
       "      <td>Bellevue</td>\n",
       "      <td>225</td>\n",
       "    </tr>\n",
       "    <tr>\n",
       "      <th>9</th>\n",
       "      <td>hulu</td>\n",
       "      <td>Los Angeles</td>\n",
       "      <td>153</td>\n",
       "    </tr>\n",
       "    <tr>\n",
       "      <th>10</th>\n",
       "      <td>mig33</td>\n",
       "      <td>Singapore</td>\n",
       "      <td>100</td>\n",
       "    </tr>\n",
       "    <tr>\n",
       "      <th>11</th>\n",
       "      <td>Zynga</td>\n",
       "      <td>San Francisco</td>\n",
       "      <td>115</td>\n",
       "    </tr>\n",
       "    <tr>\n",
       "      <th>12</th>\n",
       "      <td>Zynga</td>\n",
       "      <td></td>\n",
       "      <td>115</td>\n",
       "    </tr>\n",
       "    <tr>\n",
       "      <th>13</th>\n",
       "      <td>Zynga</td>\n",
       "      <td>Baltimore</td>\n",
       "      <td>115</td>\n",
       "    </tr>\n",
       "    <tr>\n",
       "      <th>14</th>\n",
       "      <td>Zynga</td>\n",
       "      <td>Los Angeles</td>\n",
       "      <td>115</td>\n",
       "    </tr>\n",
       "    <tr>\n",
       "      <th>15</th>\n",
       "      <td>GameDuell</td>\n",
       "      <td>San Francisco</td>\n",
       "      <td>200</td>\n",
       "    </tr>\n",
       "    <tr>\n",
       "      <th>16</th>\n",
       "      <td>GameDuell</td>\n",
       "      <td>Berlin</td>\n",
       "      <td>200</td>\n",
       "    </tr>\n",
       "    <tr>\n",
       "      <th>17</th>\n",
       "      <td>Netflix</td>\n",
       "      <td>Los Gatos</td>\n",
       "      <td>2000</td>\n",
       "    </tr>\n",
       "    <tr>\n",
       "      <th>18</th>\n",
       "      <td>Social Gaming Network</td>\n",
       "      <td>Los Angeles</td>\n",
       "      <td>100</td>\n",
       "    </tr>\n",
       "    <tr>\n",
       "      <th>19</th>\n",
       "      <td>Social Gaming Network</td>\n",
       "      <td>Beverly Hills</td>\n",
       "      <td>100</td>\n",
       "    </tr>\n",
       "    <tr>\n",
       "      <th>20</th>\n",
       "      <td>Boonty</td>\n",
       "      <td>New York</td>\n",
       "      <td>150</td>\n",
       "    </tr>\n",
       "    <tr>\n",
       "      <th>21</th>\n",
       "      <td>FriendFinder Networks</td>\n",
       "      <td>Boca Raton</td>\n",
       "      <td>350</td>\n",
       "    </tr>\n",
       "    <tr>\n",
       "      <th>22</th>\n",
       "      <td>Realtime Worlds</td>\n",
       "      <td>Dundee</td>\n",
       "      <td>225</td>\n",
       "    </tr>\n",
       "    <tr>\n",
       "      <th>23</th>\n",
       "      <td>Realtime Worlds</td>\n",
       "      <td>Boulder</td>\n",
       "      <td>225</td>\n",
       "    </tr>\n",
       "    <tr>\n",
       "      <th>24</th>\n",
       "      <td>Comcast</td>\n",
       "      <td>Philadelphia</td>\n",
       "      <td>100000</td>\n",
       "    </tr>\n",
       "    <tr>\n",
       "      <th>25</th>\n",
       "      <td>Modern Feed</td>\n",
       "      <td>Los Angeles</td>\n",
       "      <td>123</td>\n",
       "    </tr>\n",
       "    <tr>\n",
       "      <th>26</th>\n",
       "      <td>Kabam</td>\n",
       "      <td>San Francisco</td>\n",
       "      <td>650</td>\n",
       "    </tr>\n",
       "    <tr>\n",
       "      <th>27</th>\n",
       "      <td>Kabam</td>\n",
       "      <td>Beijing</td>\n",
       "      <td>650</td>\n",
       "    </tr>\n",
       "    <tr>\n",
       "      <th>28</th>\n",
       "      <td>Turbine</td>\n",
       "      <td>Westwood</td>\n",
       "      <td>200</td>\n",
       "    </tr>\n",
       "    <tr>\n",
       "      <th>29</th>\n",
       "      <td>Turbine</td>\n",
       "      <td>Redwood City</td>\n",
       "      <td>200</td>\n",
       "    </tr>\n",
       "    <tr>\n",
       "      <th>30</th>\n",
       "      <td>iWin</td>\n",
       "      <td>San Francisco</td>\n",
       "      <td>103</td>\n",
       "    </tr>\n",
       "    <tr>\n",
       "      <th>31</th>\n",
       "      <td>CCP Games</td>\n",
       "      <td>Reykjavik</td>\n",
       "      <td>360</td>\n",
       "    </tr>\n",
       "    <tr>\n",
       "      <th>32</th>\n",
       "      <td>CCP Games</td>\n",
       "      <td>Stone Mountain</td>\n",
       "      <td>360</td>\n",
       "    </tr>\n",
       "    <tr>\n",
       "      <th>33</th>\n",
       "      <td>Vostu</td>\n",
       "      <td>Buenos Aires</td>\n",
       "      <td>550</td>\n",
       "    </tr>\n",
       "    <tr>\n",
       "      <th>34</th>\n",
       "      <td>AdParlor</td>\n",
       "      <td>Toronto, Ontario</td>\n",
       "      <td>300</td>\n",
       "    </tr>\n",
       "    <tr>\n",
       "      <th>35</th>\n",
       "      <td>AdParlor</td>\n",
       "      <td>New York</td>\n",
       "      <td>300</td>\n",
       "    </tr>\n",
       "    <tr>\n",
       "      <th>36</th>\n",
       "      <td>AdParlor</td>\n",
       "      <td>Covent Garden, London</td>\n",
       "      <td>300</td>\n",
       "    </tr>\n",
       "    <tr>\n",
       "      <th>37</th>\n",
       "      <td>AdParlor</td>\n",
       "      <td>San Francisco</td>\n",
       "      <td>300</td>\n",
       "    </tr>\n",
       "    <tr>\n",
       "      <th>38</th>\n",
       "      <td>AdParlor</td>\n",
       "      <td>Shanghai</td>\n",
       "      <td>300</td>\n",
       "    </tr>\n",
       "    <tr>\n",
       "      <th>39</th>\n",
       "      <td>AdParlor</td>\n",
       "      <td>Paris</td>\n",
       "      <td>300</td>\n",
       "    </tr>\n",
       "    <tr>\n",
       "      <th>40</th>\n",
       "      <td>VBS TV</td>\n",
       "      <td>Brooklyn</td>\n",
       "      <td>100</td>\n",
       "    </tr>\n",
       "    <tr>\n",
       "      <th>41</th>\n",
       "      <td>9You</td>\n",
       "      <td>Shanghai</td>\n",
       "      <td>460</td>\n",
       "    </tr>\n",
       "  </tbody>\n",
       "</table>\n",
       "</div>"
      ],
      "text/plain": [
       "                       Name                   City  Number of employees\n",
       "0                Livestream               New York                  120\n",
       "1                   Ustream          San Francisco                  250\n",
       "2                   Ustream            Los Angeles                  250\n",
       "3                   Ustream               Budapest                  250\n",
       "4                   RockYou           Redwood City                  106\n",
       "5                       hi5          San Francisco                  100\n",
       "6                  Nintendo                   None                 5080\n",
       "7   The Walt Disney Company                Burbank                25000\n",
       "8                     Zango               Bellevue                  225\n",
       "9                      hulu            Los Angeles                  153\n",
       "10                    mig33              Singapore                  100\n",
       "11                    Zynga          San Francisco                  115\n",
       "12                    Zynga                                         115\n",
       "13                    Zynga              Baltimore                  115\n",
       "14                    Zynga            Los Angeles                  115\n",
       "15                GameDuell          San Francisco                  200\n",
       "16                GameDuell                 Berlin                  200\n",
       "17                  Netflix              Los Gatos                 2000\n",
       "18    Social Gaming Network            Los Angeles                  100\n",
       "19    Social Gaming Network          Beverly Hills                  100\n",
       "20                   Boonty               New York                  150\n",
       "21    FriendFinder Networks             Boca Raton                  350\n",
       "22          Realtime Worlds                 Dundee                  225\n",
       "23          Realtime Worlds                Boulder                  225\n",
       "24                  Comcast           Philadelphia               100000\n",
       "25              Modern Feed            Los Angeles                  123\n",
       "26                    Kabam          San Francisco                  650\n",
       "27                    Kabam                Beijing                  650\n",
       "28                  Turbine               Westwood                  200\n",
       "29                  Turbine           Redwood City                  200\n",
       "30                     iWin          San Francisco                  103\n",
       "31                CCP Games              Reykjavik                  360\n",
       "32                CCP Games         Stone Mountain                  360\n",
       "33                    Vostu           Buenos Aires                  550\n",
       "34                 AdParlor       Toronto, Ontario                  300\n",
       "35                 AdParlor               New York                  300\n",
       "36                 AdParlor  Covent Garden, London                  300\n",
       "37                 AdParlor          San Francisco                  300\n",
       "38                 AdParlor               Shanghai                  300\n",
       "39                 AdParlor                  Paris                  300\n",
       "40                   VBS TV               Brooklyn                  100\n",
       "41                     9You               Shanghai                  460"
      ]
     },
     "execution_count": 22,
     "metadata": {},
     "output_type": "execute_result"
    }
   ],
   "source": [
    "df_gaming"
   ]
  },
  {
   "cell_type": "code",
   "execution_count": 146,
   "metadata": {},
   "outputs": [
    {
     "data": {
      "text/plain": [
       "San Francisco            7\n",
       "Los Angeles              5\n",
       "New York                 3\n",
       "Redwood City             2\n",
       "Shanghai                 2\n",
       "Boulder                  1\n",
       "Philadelphia             1\n",
       "Baltimore                1\n",
       "Beverly Hills            1\n",
       "Paris                    1\n",
       "Westwood                 1\n",
       "Berlin                   1\n",
       "Singapore                1\n",
       "Boca Raton               1\n",
       "Buenos Aires             1\n",
       "                         1\n",
       "Covent Garden, London    1\n",
       "Los Gatos                1\n",
       "Burbank                  1\n",
       "Dundee                   1\n",
       "Stone Mountain           1\n",
       "Toronto, Ontario         1\n",
       "Beijing                  1\n",
       "Budapest                 1\n",
       "Bellevue                 1\n",
       "Reykjavik                1\n",
       "Brooklyn                 1\n",
       "Name: City, dtype: int64"
      ]
     },
     "execution_count": 146,
     "metadata": {},
     "output_type": "execute_result"
    }
   ],
   "source": [
    "df_gaming[\"City\"].value_counts()"
   ]
  },
  {
   "cell_type": "markdown",
   "metadata": {},
   "source": [
    "<img width=400 src=\"https://i.pinimg.com/originals/45/b4/dc/45b4dc1493c95ba63285a2db21d6662f.gif\">"
   ]
  },
  {
   "cell_type": "markdown",
   "metadata": {},
   "source": [
    "### Developers like to be near successful tech `startups` that have raised at least `1 Million dollars`, so we need to find those companies and where are they located."
   ]
  },
  {
   "cell_type": "code",
   "execution_count": 48,
   "metadata": {},
   "outputs": [],
   "source": [
    "cond3 = {\"tag_list\":{\"$regex\":\"/*start-up*\"}}"
   ]
  },
  {
   "cell_type": "code",
   "execution_count": 52,
   "metadata": {},
   "outputs": [],
   "source": [
    "cond4 = {\"total_money_raised\":{\"$gt\":\"$1M\"}}"
   ]
  },
  {
   "cell_type": "code",
   "execution_count": 53,
   "metadata": {},
   "outputs": [],
   "source": [
    "proj = {\"name\":1,\"offices.city\":1}"
   ]
  },
  {
   "cell_type": "code",
   "execution_count": 57,
   "metadata": {
    "scrolled": true
   },
   "outputs": [],
   "source": [
    "start_up = list(comp.find({\"$and\": [cond3,cond4]}, proj))"
   ]
  },
  {
   "cell_type": "code",
   "execution_count": 130,
   "metadata": {},
   "outputs": [],
   "source": [
    "s_up=[]\n",
    "\n",
    "for emp in start_up:\n",
    "    \n",
    "    if len(emp.get(\"offices\")) > 1:\n",
    "        \n",
    "        for i in range(len(emp.get(\"offices\"))):\n",
    "            \n",
    "            dicc = {\n",
    "                \"Name\" : emp.get(\"name\"),\n",
    "                \"City\" : emp.get(\"offices\")[i].get(\"city\")\n",
    "            }\n",
    "            \n",
    "            s_up.append(dicc)\n",
    "        \n",
    "    else:\n",
    "        \n",
    "        dicc = {\n",
    "            \"Name\" : emp.get(\"name\"),\n",
    "            \"City\" : emp.get(\"offices\")[0].get(\"city\")\n",
    "        }\n",
    "        \n",
    "        s_up.append(dicc)\n",
    "\n",
    "df_sup = pd.DataFrame(s_up)"
   ]
  },
  {
   "cell_type": "markdown",
   "metadata": {},
   "source": [
    "This are the `Start-Up` companies that have raise more than `1 Million`."
   ]
  },
  {
   "cell_type": "code",
   "execution_count": 131,
   "metadata": {},
   "outputs": [
    {
     "data": {
      "text/html": [
       "<div>\n",
       "<style scoped>\n",
       "    .dataframe tbody tr th:only-of-type {\n",
       "        vertical-align: middle;\n",
       "    }\n",
       "\n",
       "    .dataframe tbody tr th {\n",
       "        vertical-align: top;\n",
       "    }\n",
       "\n",
       "    .dataframe thead th {\n",
       "        text-align: right;\n",
       "    }\n",
       "</style>\n",
       "<table border=\"1\" class=\"dataframe\">\n",
       "  <thead>\n",
       "    <tr style=\"text-align: right;\">\n",
       "      <th></th>\n",
       "      <th>Name</th>\n",
       "      <th>City</th>\n",
       "    </tr>\n",
       "  </thead>\n",
       "  <tbody>\n",
       "    <tr>\n",
       "      <th>0</th>\n",
       "      <td>Moviestorm</td>\n",
       "      <td>Cambridge</td>\n",
       "    </tr>\n",
       "    <tr>\n",
       "      <th>1</th>\n",
       "      <td>MojoPages</td>\n",
       "      <td>San Diego</td>\n",
       "    </tr>\n",
       "    <tr>\n",
       "      <th>2</th>\n",
       "      <td>MojoPages</td>\n",
       "      <td>Calabassas</td>\n",
       "    </tr>\n",
       "    <tr>\n",
       "      <th>3</th>\n",
       "      <td>Getyoo</td>\n",
       "      <td>Brussels</td>\n",
       "    </tr>\n",
       "  </tbody>\n",
       "</table>\n",
       "</div>"
      ],
      "text/plain": [
       "         Name        City\n",
       "0  Moviestorm   Cambridge\n",
       "1   MojoPages   San Diego\n",
       "2   MojoPages  Calabassas\n",
       "3      Getyoo    Brussels"
      ]
     },
     "execution_count": 131,
     "metadata": {},
     "output_type": "execute_result"
    }
   ],
   "source": [
    "df_sup"
   ]
  },
  {
   "cell_type": "code",
   "execution_count": 132,
   "metadata": {},
   "outputs": [
    {
     "data": {
      "text/plain": [
       "Cambridge     1\n",
       "Brussels      1\n",
       "San Diego     1\n",
       "Calabassas    1\n",
       "Name: City, dtype: int64"
      ]
     },
     "execution_count": 132,
     "metadata": {},
     "output_type": "execute_result"
    }
   ],
   "source": [
    "df_sup[\"City\"].value_counts()"
   ]
  },
  {
   "cell_type": "markdown",
   "metadata": {},
   "source": [
    "<img width=300 src=\"https://i.pinimg.com/originals/29/df/4e/29df4ede8b954bc0fe4677159c75c7a6.gif\">"
   ]
  },
  {
   "cell_type": "markdown",
   "metadata": {},
   "source": [
    "### Designers like to go to design talks and share knowledge. There must be some `nearby companies that also do design`."
   ]
  },
  {
   "cell_type": "code",
   "execution_count": 114,
   "metadata": {},
   "outputs": [],
   "source": [
    "cond5 = {\"tag_list\":{\"$regex\":\"/*design*\"}}"
   ]
  },
  {
   "cell_type": "code",
   "execution_count": 115,
   "metadata": {},
   "outputs": [],
   "source": [
    "proj = {\"name\":1,\"offices.city\":1}"
   ]
  },
  {
   "cell_type": "code",
   "execution_count": 116,
   "metadata": {
    "scrolled": true
   },
   "outputs": [],
   "source": [
    "design = list(comp.find(cond5, proj))"
   ]
  },
  {
   "cell_type": "code",
   "execution_count": 123,
   "metadata": {},
   "outputs": [],
   "source": [
    "dsgn = []\n",
    "\n",
    "try:\n",
    "    \n",
    "    for emp in design:\n",
    "\n",
    "        if len(emp.get(\"offices\")) > 1:\n",
    "\n",
    "            for i in range(len(emp.get(\"offices\"))):\n",
    "\n",
    "                dicc = {\n",
    "                    \"Name\" : emp.get(\"name\"),\n",
    "                    \"City\" : emp.get(\"offices\")[i].get(\"city\"),\n",
    "                    #\"Number of employees\" : emp.get(\"number_of_employees\")\n",
    "                }\n",
    "\n",
    "                dsgn.append(dicc)\n",
    "\n",
    "        else:\n",
    "\n",
    "            dicc = {\n",
    "                \"Name\" : emp.get(\"name\"),\n",
    "                \"City\" : emp.get(\"offices\")[0].get(\"city\"),\n",
    "                #\"Number of employees\" : emp.get(\"number_of_employees\")\n",
    "            }\n",
    "\n",
    "            dsgn.append(dicc)\n",
    "            \n",
    "except:\n",
    "    \n",
    "    None\n",
    "\n",
    "df_design = pd.DataFrame(dsgn)"
   ]
  },
  {
   "cell_type": "markdown",
   "metadata": {},
   "source": [
    "These are the `design companies` and where are they located"
   ]
  },
  {
   "cell_type": "code",
   "execution_count": 1,
   "metadata": {},
   "outputs": [
    {
     "ename": "NameError",
     "evalue": "name 'df_design' is not defined",
     "output_type": "error",
     "traceback": [
      "\u001b[0;31m---------------------------------------------------------------------------\u001b[0m",
      "\u001b[0;31mNameError\u001b[0m                                 Traceback (most recent call last)",
      "\u001b[0;32m<ipython-input-1-c00211d1f1aa>\u001b[0m in \u001b[0;36m<module>\u001b[0;34m\u001b[0m\n\u001b[0;32m----> 1\u001b[0;31m \u001b[0mdf_design\u001b[0m\u001b[0;34m.\u001b[0m\u001b[0mhead\u001b[0m\u001b[0;34m(\u001b[0m\u001b[0;34m)\u001b[0m\u001b[0;34m\u001b[0m\u001b[0;34m\u001b[0m\u001b[0m\n\u001b[0m",
      "\u001b[0;31mNameError\u001b[0m: name 'df_design' is not defined"
     ]
    }
   ],
   "source": [
    "df_design.head()"
   ]
  },
  {
   "cell_type": "code",
   "execution_count": 142,
   "metadata": {},
   "outputs": [
    {
     "data": {
      "text/plain": [
       "San Francisco    0.108108\n",
       "London           0.081081\n",
       "                 0.054054\n",
       "Tel Aviv         0.054054\n",
       "Los Angeles      0.054054\n",
       "New York         0.054054\n",
       "Allentown        0.054054\n",
       "Wellington       0.027027\n",
       "San Jose         0.027027\n",
       "Vancouver        0.027027\n",
       "Hyderabad        0.027027\n",
       "Collingwood      0.027027\n",
       "Coral Gables     0.027027\n",
       "Rocky River      0.027027\n",
       "Newark           0.027027\n",
       "Carlsbad         0.027027\n",
       "PARIS            0.027027\n",
       "Berlin           0.027027\n",
       "Bath             0.027027\n",
       "Palo Alto        0.027027\n",
       "Jacksonville     0.027027\n",
       "Oakland          0.027027\n",
       "Irvine           0.027027\n",
       "Los Altos        0.027027\n",
       "Chennai          0.027027\n",
       "San Diego        0.027027\n",
       "NY               0.027027\n",
       "Name: City, dtype: float64"
      ]
     },
     "execution_count": 142,
     "metadata": {},
     "output_type": "execute_result"
    }
   ],
   "source": [
    "df_design[\"City\"].value_counts(1)"
   ]
  },
  {
   "cell_type": "markdown",
   "metadata": {},
   "source": [
    "## Conclusions\n",
    "\n",
    "As we can see the main cities for `Gaming companies` are:\n",
    "* San Francisco (17.1 %)\n",
    "* Los Angeles (12.22 %)\n",
    "* New York ( 7.35 %)\n",
    "\n",
    "The `Start-up´s` that have raised mor than `1 Million` are located in:\n",
    "\n",
    "* Cambridge     \n",
    "* Brussels      \n",
    "* San Diego     \n",
    "* Calabassas\n",
    "\n",
    "The 3 main cities for `design companies` where our designers could go to `talks and share knowledge`are:\n",
    "\n",
    "* San Francisco (10.81 %)\n",
    "* London (8.1 %)\n",
    "* Tel Aviv (5.4 %)"
   ]
  },
  {
   "cell_type": "markdown",
   "metadata": {},
   "source": [
    "#### As we have seen, the region that meets all three requirements is `California` becouse:\n",
    "* There are about `30%` of the `Gaming Companies`\n",
    "* Almost `11%` of the `Design Companies` are located in San Francisco.\n",
    "* There is a `Start-Up` in San Diego that has grown more than `1 Million`."
   ]
  },
  {
   "cell_type": "markdown",
   "metadata": {},
   "source": [
    "## and the city chosen within california is:"
   ]
  },
  {
   "cell_type": "markdown",
   "metadata": {},
   "source": [
    "<img src=\"https://4.bp.blogspot.com/-t-y_DP6fs84/WvBgeXBIpxI/AAAAAAAB3jE/ESH3I48k8C0GSJCO0XHW9E7EvDEMjYlwQCLcBGAs/s1600/DrumrollPlease.gif\">\n",
    "\n",
    "\n",
    "\n",
    "\n",
    "\n",
    "\n",
    "\n",
    "\n",
    "\n",
    "\n",
    "\n",
    "."
   ]
  },
  {
   "cell_type": "markdown",
   "metadata": {},
   "source": [
    ".\n",
    "\n",
    "\n",
    "\n",
    "\n",
    "\n",
    "\n",
    "\n",
    "# San Francisco!! "
   ]
  },
  {
   "cell_type": "markdown",
   "metadata": {},
   "source": [
    "<img src=\"https://media3.giphy.com/media/1gSpPNH54G222oMtgR/source.gif\">"
   ]
  },
  {
   "cell_type": "markdown",
   "metadata": {},
   "source": [
    "## And the company to select the location is `Zynga`. [37.7709, -122.4058]"
   ]
  },
  {
   "cell_type": "markdown",
   "metadata": {},
   "source": [
    "<img src=\"data:image/png;base64,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\">"
   ]
  },
  {
   "cell_type": "code",
   "execution_count": 25,
   "metadata": {},
   "outputs": [
    {
     "data": {
      "text/plain": [
       "[]"
      ]
     },
     "execution_count": 25,
     "metadata": {},
     "output_type": "execute_result"
    }
   ],
   "source": [
    "cond = {\"name\":\"zynga\", \"offices.city\":\"San Francisco\"}\n",
    "proj = {\"name\":1, \"number_of_employees\":1, \"offices.city\":1}\n",
    "zynga = list(comp.find(cond,proj))\n",
    "zynga\n"
   ]
  },
  {
   "cell_type": "code",
   "execution_count": null,
   "metadata": {},
   "outputs": [],
   "source": []
  }
 ],
 "metadata": {
  "kernelspec": {
   "display_name": "Python 3",
   "language": "python",
   "name": "python3"
  },
  "language_info": {
   "codemirror_mode": {
    "name": "ipython",
    "version": 3
   },
   "file_extension": ".py",
   "mimetype": "text/x-python",
   "name": "python",
   "nbconvert_exporter": "python",
   "pygments_lexer": "ipython3",
   "version": "3.8.5"
  }
 },
 "nbformat": 4,
 "nbformat_minor": 4
}
